{
 "cells": [
  {
   "cell_type": "code",
   "execution_count": null,
   "metadata": {},
   "outputs": [],
   "source": [
    "import pandas as pd\n",
    "from vresutils.costdata import annuity\n",
    "import yaml"
   ]
  },
  {
   "cell_type": "code",
   "execution_count": null,
   "metadata": {},
   "outputs": [],
   "source": [
    "with open(\"../config.pypsaeur.yaml\", 'r') as stream:\n",
    "    config = yaml.safe_load(stream)[\"costs\"]"
   ]
  },
  {
   "cell_type": "code",
   "execution_count": null,
   "metadata": {},
   "outputs": [],
   "source": [
    "with open(\"../config.pypsaeur.yaml\", 'r') as stream:\n",
    "    elec_config = yaml.safe_load(stream)[\"electricity\"]"
   ]
  },
  {
   "cell_type": "code",
   "execution_count": null,
   "metadata": {},
   "outputs": [],
   "source": [
    "with open(\"../data/nicenames.yaml\", 'r') as stream:\n",
    "    nn = yaml.safe_load(stream)"
   ]
  },
  {
   "cell_type": "code",
   "execution_count": null,
   "metadata": {},
   "outputs": [],
   "source": [
    "Nyears = 1\n",
    "opt_fn = \"../data/costs_optimist.csv\"\n",
    "pes_fn = \"../data/costs_pessimist.csv\"\n",
    "peur_fn = \"../data/costs_pypsaeur.csv\""
   ]
  },
  {
   "cell_type": "code",
   "execution_count": null,
   "metadata": {},
   "outputs": [],
   "source": [
    "def load_costs(fn):\n",
    "\n",
    "    # set all asset costs and other parameters\n",
    "    costs = pd.read_csv(fn, index_col=[0,1]).sort_index()\n",
    "\n",
    "    # correct units to kW\n",
    "    costs.loc[costs.unit.str.contains(\"/MW\"),\"value\"] /= 1e3\n",
    "    costs.unit = costs.unit.str.replace(\"/MW\", \"/kW\")\n",
    "\n",
    "    fill_values = config[\"fill_values\"]\n",
    "    costs = costs.value.unstack().fillna(fill_values)\n",
    "\n",
    "    costs[\"capital_cost\"] = ((annuity(costs[\"lifetime\"], costs[\"discount rate\"]) +\n",
    "                             costs[\"FOM\"]/100.) *\n",
    "                             costs[\"investment\"] * Nyears)\n",
    "\n",
    "    costs['marginal_cost'] = costs['VOM']\n",
    "\n",
    "    costs.at['solar', 'capital_cost'] = config[\"rooftop_share\"] * costs.at['solar-rooftop', 'capital_cost'] + \\\n",
    "                                        (1-config[\"rooftop_share\"]) * costs.at['solar-utility', 'capital_cost']\n",
    "\n",
    "    def costs_for_storage(store, link1, link2=None, max_hours=1.):        \n",
    "        \n",
    "        capital_cost = link1['capital_cost'] + max_hours * store['capital_cost']\n",
    "        if link2 is not None:\n",
    "            capital_cost += link2['capital_cost']\n",
    "        return pd.Series(dict(capital_cost=capital_cost,\n",
    "                              marginal_cost=0.,\n",
    "                              co2_emissions=0.))\n",
    "\n",
    "    max_hours = elec_config['max_hours']\n",
    "    costs.loc[\"battery\"] = \\\n",
    "        costs_for_storage(costs.loc[\"battery storage\"], costs.loc[\"battery inverter\"],\n",
    "                          max_hours=max_hours['battery'])\n",
    "    costs.loc[\"H2\"] = \\\n",
    "        costs_for_storage(costs.loc[\"hydrogen storage tank\"], costs.loc[\"fuel cell\"],\n",
    "                          costs.loc[\"electrolysis\"], max_hours=max_hours['H2']) \n",
    "    return costs"
   ]
  },
  {
   "cell_type": "code",
   "execution_count": null,
   "metadata": {},
   "outputs": [],
   "source": [
    "opt = load_costs(opt_fn)\n",
    "pes = load_costs(pes_fn)\n",
    "peur = load_costs(peur_fn)"
   ]
  },
  {
   "cell_type": "code",
   "execution_count": null,
   "metadata": {},
   "outputs": [],
   "source": [
    "cost_uncertainty = pd.concat([opt.capital_cost, pes.capital_cost, peur.capital_cost],\n",
    "                              keys=[\"optimist\", \"pessimist\", \"pypsaeur\"], axis=1)\n",
    "keep = [\"battery\", \"H2\", \"solar\", \"offwind\", \"onwind\"]\n",
    "cost_uncertainty = cost_uncertainty.loc[keep].round()"
   ]
  },
  {
   "cell_type": "code",
   "execution_count": null,
   "metadata": {},
   "outputs": [],
   "source": [
    "cost_uncertainty.to_csv(\"cost-uncertainty.csv\")"
   ]
  },
  {
   "cell_type": "code",
   "execution_count": null,
   "metadata": {},
   "outputs": [],
   "source": [
    "regex = '(HVAC|HVDC|PHS|battery |electrolysis|fuel cell|hydro$|hydrogen storage tank|offwind|onwind|ror|solar-)'\n",
    "drop = [\"capital_cost\", \"marginal_cost\", \"fuel\", \"discount rate\", \"VOM\"]\n",
    "optf = opt.filter(regex=regex, axis=0).drop(drop, axis=1)\n",
    "pesf = pes.filter(regex=regex, axis=0).drop(drop, axis=1)\n",
    "peurf = peur.filter(regex=regex, axis=0).drop(drop+[\"CO2 intensity\"], axis=1)"
   ]
  },
  {
   "cell_type": "code",
   "execution_count": null,
   "metadata": {},
   "outputs": [],
   "source": [
    "df = optf.copy()\n",
    "\n",
    "df[\"investment pes\"] = pesf.investment.round(1)\n",
    "df[\"investment peur\"] = peurf.investment.round(1)\n",
    "df.investment = df.investment.round(1)\n",
    "\n",
    "df.lifetime = df.lifetime.astype(int)\n",
    "df.loc[df.efficiency==1.,\"efficiency\"] = \"-\"\n",
    "df.loc[df.FOM==0.,\"FOM\"] = \"-\"\n",
    "\n",
    "df.drop([\"HVDC inverter pair\", \"HVDC submarine\"], axis=0, inplace=True)\n",
    "df = df[[\"FOM\", \"efficiency\", \"lifetime\", \"investment\", \"investment pes\", \"investment peur\"]]\n",
    "\n",
    "df.rename(index=nn[\"rows\"], columns=nn[\"columns\"], inplace=True)\n",
    "df.sort_index(ascending=False, inplace=True)"
   ]
  },
  {
   "cell_type": "code",
   "execution_count": null,
   "metadata": {},
   "outputs": [],
   "source": [
    "df.to_csv(\"cost-table.csv\")"
   ]
  },
  {
   "cell_type": "code",
   "execution_count": null,
   "metadata": {},
   "outputs": [],
   "source": [
    "with open('cost-table.tex', 'w') as tf:\n",
    "     tf.write(df.to_latex())"
   ]
  },
  {
   "cell_type": "code",
   "execution_count": null,
   "metadata": {},
   "outputs": [],
   "source": []
  }
 ],
 "metadata": {
  "kernelspec": {
   "display_name": "",
   "language": "python",
   "name": ""
  },
  "language_info": {
   "codemirror_mode": {
    "name": "ipython",
    "version": 3
   },
   "file_extension": ".py",
   "mimetype": "text/x-python",
   "name": "python",
   "nbconvert_exporter": "python",
   "pygments_lexer": "ipython3",
   "version": "3.9.7"
  }
 },
 "nbformat": 4,
 "nbformat_minor": 4
}