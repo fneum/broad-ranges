{
 "cells": [
  {
   "cell_type": "code",
   "execution_count": null,
   "metadata": {},
   "outputs": [],
   "source": [
    "%load_ext autoreload\n",
    "%autoreload 2"
   ]
  },
  {
   "cell_type": "code",
   "execution_count": null,
   "metadata": {},
   "outputs": [],
   "source": [
    "import pandas as pd\n",
    "import matplotlib.pyplot as plt\n",
    "import yaml\n",
    "import os\n",
    "import sys\n",
    "import chaospy"
   ]
  },
  {
   "cell_type": "code",
   "execution_count": null,
   "metadata": {},
   "outputs": [],
   "source": [
    "sys.path.insert(0, os.getcwd() + \"/../scripts\")\n",
    "import _helpers as h\n",
    "\n",
    "plt.style.use([\"../matplotlibrc\",\"bmh\"])\n",
    "%matplotlib inline"
   ]
  },
  {
   "cell_type": "code",
   "execution_count": null,
   "metadata": {},
   "outputs": [],
   "source": [
    "from sobol import calculate_sobol, calculate_sobol_m2"
   ]
  },
  {
   "cell_type": "code",
   "execution_count": null,
   "metadata": {},
   "outputs": [],
   "source": [
    "with open(\"../config.yaml\", 'r') as stream:\n",
    "    config = yaml.safe_load(stream)"
   ]
  },
  {
   "cell_type": "code",
   "execution_count": null,
   "metadata": {},
   "outputs": [],
   "source": [
    "with open(\"../config.pypsaeur.yaml\", 'r') as stream:\n",
    "    peur_config = yaml.safe_load(stream)\n",
    "    TECH_COLORS = peur_config[\"plotting\"][\"tech_colors\"]\n",
    "    NICE_NAMES = peur_config[\"plotting\"][\"nice_names\"]"
   ]
  },
  {
   "cell_type": "code",
   "execution_count": null,
   "metadata": {},
   "outputs": [],
   "source": [
    "uncertainties = config[\"uncertainties\"]\n",
    "distribution = h.NamedJ(uncertainties)"
   ]
  },
  {
   "cell_type": "code",
   "execution_count": null,
   "metadata": {},
   "outputs": [],
   "source": [
    "epsilons = [0.0, 0.01, 0.02, 0.04, 0.06, 0.08]\n",
    "sobol = {}\n",
    "for dimension in [\"wind\", \"solar\", \"battery\", \"H2\", \"transmission\"]:\n",
    "    for epsilon in epsilons:\n",
    "        print(epsilon, end=' ')\n",
    "        if epsilon == 0.0:\n",
    "            surrogate = h.NamedPoly.from_txt(f\"../results/pce/polynomial-low-min-cost-0.0.txt\")\n",
    "        else:\n",
    "            surrogate = h.NamedPoly.from_txt(f\"../results/pce/polynomial-low-min-{dimension}-{epsilon}.txt\")\n",
    "\n",
    "        variance = chaospy.Var(surrogate.poly, distribution.J)\n",
    "        sobol[epsilon] = calculate_sobol(surrogate, distribution, sobol='m') * variance\n",
    "\n",
    "    df = pd.concat(sobol, axis=1)\n",
    "    \n",
    "    for attr in [\"wind\", \"solar\", \"battery\", \"H2\", \"transmission\"]:\n",
    "\n",
    "        dff = df.xs(attr, level=1, axis=1).T\n",
    "\n",
    "        c = dff.columns.map(TECH_COLORS)\n",
    "        dff.columns = dff.columns.map(NICE_NAMES)\n",
    "        dff.index = [i*100 for i in dff.index]\n",
    "\n",
    "        fig, ax = plt.subplots(figsize=(4.5,3))\n",
    "        dff.plot(ax=ax, kind=\"area\", linewidth=0, color=c)\n",
    "        plt.grid(False)\n",
    "        plt.box(False)\n",
    "        plt.legend(frameon=False, bbox_to_anchor=(1,1))\n",
    "        plt.xlabel(r\"$\\varepsilon$ [%]\")\n",
    "        plt.ylabel(f\"Variance of {NICE_NAMES[attr]}\")\n",
    "        \n",
    "        plt.title(f\"Min {NICE_NAMES[dimension]}\")\n",
    "        \n",
    "        plt.savefig(f\"graphics/sobolepsilon/se-{dimension}-{attr}.pdf\", bbox_inches='tight')\n",
    "        \n",
    "        plt.close(fig)"
   ]
  },
  {
   "cell_type": "code",
   "execution_count": null,
   "metadata": {},
   "outputs": [],
   "source": []
  },
  {
   "cell_type": "code",
   "execution_count": null,
   "metadata": {},
   "outputs": [],
   "source": []
  }
 ],
 "metadata": {
  "kernelspec": {
   "display_name": "",
   "language": "python",
   "name": ""
  },
  "language_info": {
   "codemirror_mode": {
    "name": "ipython",
    "version": 3
   },
   "file_extension": ".py",
   "mimetype": "text/x-python",
   "name": "python",
   "nbconvert_exporter": "python",
   "pygments_lexer": "ipython3",
   "version": "3.9.7"
  }
 },
 "nbformat": 4,
 "nbformat_minor": 4
}