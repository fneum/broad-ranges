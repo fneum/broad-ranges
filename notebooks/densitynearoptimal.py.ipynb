{
 "cells": [
  {
   "cell_type": "code",
   "execution_count": null,
   "metadata": {},
   "outputs": [],
   "source": [
    "import os\n",
    "import sys\n",
    "import yaml\n",
    "\n",
    "import pandas as pd\n",
    "import numpy as np\n",
    "\n",
    "from scipy.ndimage import gaussian_filter\n",
    "\n",
    "import matplotlib.pyplot as plt\n",
    "import seaborn as sns\n",
    "from matplotlib.colors import ListedColormap\n",
    "from mpl_toolkits.axes_grid1.inset_locator import inset_axes\n",
    "plt.style.use([\"bmh\", \"../matplotlibrc\"])\n",
    "%matplotlib inline\n",
    "\n",
    "sys.path.insert(0, os.getcwd() + \"/../scripts\")\n",
    "\n",
    "import _helpers as h"
   ]
  },
  {
   "cell_type": "code",
   "execution_count": null,
   "metadata": {},
   "outputs": [],
   "source": [
    "with open(\"../config.pypsaeur.yaml\", 'r') as stream:\n",
    "    peur_config = yaml.safe_load(stream)\n",
    "    TECH_COLORS = peur_config[\"plotting\"][\"tech_colors\"]\n",
    "    NICE_NAMES = peur_config[\"plotting\"][\"nice_names\"]"
   ]
  },
  {
   "cell_type": "code",
   "execution_count": null,
   "metadata": {},
   "outputs": [],
   "source": [
    "# global settings\n",
    "filter_sigma = 1\n",
    "pcolormesh = False\n",
    "colors = dict(H2=\"mediumvioletred\", offwind=\"cornflowerblue\", onwind=\"darkblue\", wind=\"royalblue\",\n",
    "              solar=\"darkorange\", battery=\"seagreen\", transmission=\"firebrick\")\n",
    "ylim_upper_abs = dict(H2=800, battery=800, wind=1800, onwind=1800, offwind=1800, solar=1800, transmission=1200)\n",
    "ylim_upper_rel = dict(H2=5, battery=5, wind=5, onwind=5, offwind=5, solar=5, transmission=3)\n",
    "levels = [10, 25, 50, 75, 90, 99]\n",
    "\n",
    "with open(\"../config.yaml\", 'r') as stream:\n",
    "    config = yaml.safe_load(stream)"
   ]
  },
  {
   "cell_type": "code",
   "execution_count": null,
   "metadata": {},
   "outputs": [],
   "source": [
    "def prepare_from_dataset(fn, carrier, sense):\n",
    "    df = h.load_dataset(fn, carrier, sense)[carrier].unstack(\"epsilon\").T\n",
    "    df.index = df.index.astype(float)\n",
    "    return df"
   ]
  },
  {
   "cell_type": "code",
   "execution_count": null,
   "metadata": {},
   "outputs": [],
   "source": [
    "prepare_from_dataset(\"../results/dataset_high.csv\", \"wind\", \"min\")"
   ]
  },
  {
   "cell_type": "code",
   "execution_count": null,
   "metadata": {},
   "outputs": [],
   "source": [
    "pd.read_csv(\"../results/dataset_high.csv\", index_col=0, header=list(range(8)))"
   ]
  },
  {
   "cell_type": "code",
   "execution_count": null,
   "metadata": {},
   "outputs": [],
   "source": [
    "def prepare_from_surrogate(path, fidelity, carrier, sense, epsilons, size, rule='halton', fmt=3):\n",
    "    uncertainties = config[\"uncertainties\"]\n",
    "    distribution = h.NamedJ(uncertainties)\n",
    "    samples = distribution.sample(size, rule, fmt)\n",
    "\n",
    "    predictions = {}\n",
    "    for eps in epsilons:\n",
    "        surrogate = h.NamedPoly.from_txt(f\"{path}/polynomial-{fidelity}-{sense}-{carrier}-{eps}.txt\")\n",
    "        predictions[eps] = h.build_pce_prediction(surrogate, samples)\n",
    "\n",
    "    opt_surrogate = h.NamedPoly.from_txt(f\"{path}/polynomial-{fidelity}-min-cost-0.0.txt\")\n",
    "    predictions[0.0] = h.build_pce_prediction(opt_surrogate, samples)\n",
    "\n",
    "    df = pd.concat(predictions, axis=0)\n",
    "    df.index.set_names(\"epsilon\", level=0, inplace=True)\n",
    "    \n",
    "    return df"
   ]
  },
  {
   "cell_type": "code",
   "execution_count": null,
   "metadata": {},
   "outputs": [],
   "source": [
    "def plot_density(mi, ma, carrier, fn=None, relative=False):\n",
    "    \n",
    "    # -----------------\n",
    "    # prepare data\n",
    "    # -----------------\n",
    "    \n",
    "    # settings\n",
    "    columns = np.arange(0, 0.08 + 0.001, 0.002)\n",
    "    if relative:\n",
    "        step = 0.01\n",
    "        index = np.arange(0, ylim_upper_rel[carrier] + step, step)\n",
    "        mi = mi.divide(mi.loc[0.00,:], axis=1)\n",
    "        ma = ma.divide(ma.loc[0.00,:], axis=1)\n",
    "    else: \n",
    "        step = 5\n",
    "        index = np.arange(0, ylim_upper_abs[carrier] + step, step)\n",
    "\n",
    "    # TODO probably can do without pre-initialising dataframe\n",
    "    df = pd.DataFrame(0, index=index, columns=columns)\n",
    "\n",
    "    mi_i = mi.reindex(index=columns).interpolate(\"quadratic\", axis=0)\n",
    "    ma_i = ma.reindex(index=columns).interpolate(\"quadratic\", axis=0)\n",
    "\n",
    "    def to_heatmap(x, mi_i, ma_i):\n",
    "        s = pd.concat({\"min\": mi_i.loc[x.name, :],\n",
    "                       \"max\": ma_i.loc[x.name, :]}, axis=1)\n",
    "        df = pd.Series([len(s.loc[(s[\"min\"]<i) & (s[\"max\"]>i)]) / len(s) * 100 for i in x.index], index=x.index)\n",
    "        return df\n",
    "\n",
    "    df = df.apply(to_heatmap, axis=0, args=(mi_i, ma_i))\n",
    "    df.columns = [c * 100 for c in df.columns]\n",
    "\n",
    "    if filter_sigma:\n",
    "        df.loc[:,:] = gaussian_filter(df.values, sigma=filter_sigma)\n",
    "\n",
    "    # -----------------\n",
    "    # plot figure\n",
    "    # -----------------\n",
    "\n",
    "    fig, ax = plt.subplots(figsize=(4.5,4))\n",
    "    plt.box(False)\n",
    "\n",
    "    cmap = ListedColormap(sns.light_palette(colors[carrier], len(levels)).as_hex())\n",
    "\n",
    "    if not pcolormesh:\n",
    "        plt.contourf(df.columns, df.index, df, cmap=cmap, levels=levels, extend='max')\n",
    "\n",
    "        # colorbar\n",
    "        cbaxes = inset_axes(ax, width=\"30%\", height=\"3%\", loc=\"upper left\", borderpad=1)#bbox_to_anchor=(-.5,.1,.8,0.8), bbox_transform=ax.transAxes) \n",
    "        cbar = plt.colorbar(cax=cbaxes, orientation='horizontal')\n",
    "        cbar.ax.tick_params(labelsize=9)\n",
    "        cbar.set_label(label=\"quantiles [%]\",size=9)\n",
    "\n",
    "        cs = ax.contour(df.columns, df.index, df, levels=levels, colors='darkgray', linewidths=0.5, extend='max')\n",
    "        ax.clabel(cs, inline=True, fmt='%1.0f')\n",
    "    else:\n",
    "        plt.pcolormesh(df.columns, df.index, df, cmap=\"Reds\")\n",
    "\n",
    "    ax.grid(False)\n",
    "    ax.legend(frameon=False, loc='upper left', bbox_to_anchor=(0,1.07))\n",
    "\n",
    "    ax.set_title(NICE_NAMES[carrier])\n",
    "    unit = \"TWkm\" if carrier == \"transmission\" else \"GW\"\n",
    "    if relative: unit = \"-\"\n",
    "    ax.set_ylabel(f\"capacity [{unit}]\")\n",
    "    ax.set_xlabel(r\"$\\varepsilon$ [%]\")\n",
    "\n",
    "    # padding\n",
    "    \n",
    "    if relative:\n",
    "        ypad = 0.1\n",
    "        xpad = 0.1\n",
    "    else:\n",
    "        ypad = 20\n",
    "        xpad = 0.4\n",
    "        \n",
    "    ylim = ax.get_ylim()\n",
    "    ax.set_ylim(ylim[0] - ypad, ylim[1] + ypad)\n",
    "    xlim = ax.get_xlim()\n",
    "    ax.set_xlim(xlim[0] - xpad, xlim[1] + xpad)\n",
    "\n",
    "    if fn is not None:\n",
    "        plt.savefig(fn, bbox_inches='tight')\n",
    "        \n",
    "    plt.close(fig)"
   ]
  },
  {
   "cell_type": "code",
   "execution_count": null,
   "metadata": {},
   "outputs": [],
   "source": [
    "for carrier in ylim_upper_abs.keys():\n",
    "    mi = prepare_from_dataset(f\"../results/dataset_low.csv\", carrier, \"min\")\n",
    "    ma = prepare_from_dataset(f\"../results/dataset_low.csv\", carrier, \"max\")\n",
    "    plot_density(mi, ma, carrier, fn=f\"graphics/neardensity/samp-low-{carrier}.pdf\")\n",
    "    plot_density(mi, ma, carrier, fn=f\"graphics/neardensity/samp-rel-low-{carrier}.pdf\", relative=True)"
   ]
  },
  {
   "cell_type": "code",
   "execution_count": null,
   "metadata": {},
   "outputs": [],
   "source": [
    "epsilons = [0.01,0.02,0.04,0.06,0.08] \n",
    "nsamples = 5000"
   ]
  },
  {
   "cell_type": "code",
   "execution_count": null,
   "metadata": {},
   "outputs": [],
   "source": [
    "for fidelity in [\"low\", \"high\"]:\n",
    "    for carrier in ylim_upper_abs.keys():\n",
    "        mis = prepare_from_surrogate(\"../results/pce\", fidelity, carrier, \"min\", epsilons, nsamples)\n",
    "        mas = prepare_from_surrogate(\"../results/pce\", fidelity, carrier, \"max\", epsilons, nsamples)\n",
    "        mi = mis[carrier].unstack(\"epsilon\").T\n",
    "        ma = mas[carrier].unstack(\"epsilon\").T\n",
    "        mi.index = mi.index.astype(float)\n",
    "        ma.index = ma.index.astype(float)\n",
    "\n",
    "        plot_density(mi, ma, carrier, fn=f\"graphics/neardensity/surr-{fidelity}-{carrier}.pdf\")\n",
    "        #plot_density(mi, ma, carrier, fn=f\"graphics/neardensity/surr-rel-{fidelity}-{carrier}.pdf\", relative=True)"
   ]
  },
  {
   "cell_type": "code",
   "execution_count": null,
   "metadata": {},
   "outputs": [],
   "source": []
  }
 ],
 "metadata": {
  "kernelspec": {
   "display_name": "",
   "language": "python",
   "name": ""
  },
  "language_info": {
   "codemirror_mode": {
    "name": "ipython",
    "version": 3
   },
   "file_extension": ".py",
   "mimetype": "text/x-python",
   "name": "python",
   "nbconvert_exporter": "python",
   "pygments_lexer": "ipython3",
   "version": "3.7.6"
  }
 },
 "nbformat": 4,
 "nbformat_minor": 4
}