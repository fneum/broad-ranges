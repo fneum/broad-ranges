{
 "cells": [
  {
   "cell_type": "code",
   "execution_count": null,
   "metadata": {},
   "outputs": [],
   "source": [
    "%load_ext autoreload\n",
    "%autoreload 2"
   ]
  },
  {
   "cell_type": "code",
   "execution_count": null,
   "metadata": {},
   "outputs": [],
   "source": [
    "import pandas as pd\n",
    "import matplotlib.pyplot as plt\n",
    "import yaml\n",
    "import os\n",
    "import sys\n",
    "from itertools import product"
   ]
  },
  {
   "cell_type": "code",
   "execution_count": null,
   "metadata": {},
   "outputs": [],
   "source": [
    "sys.path.insert(0, os.getcwd() + \"/../scripts\")\n",
    "import _helpers as h\n",
    "\n",
    "plt.style.use([\"bmh\", \"../matplotlibrc\"])\n",
    "%matplotlib inline"
   ]
  },
  {
   "cell_type": "code",
   "execution_count": null,
   "metadata": {},
   "outputs": [],
   "source": [
    "with open(\"../config.yaml\", 'r') as stream:\n",
    "    config = yaml.safe_load(stream)"
   ]
  },
  {
   "cell_type": "code",
   "execution_count": null,
   "metadata": {},
   "outputs": [],
   "source": [
    "with open(\"../config.pypsaeur.yaml\", 'r') as stream:\n",
    "    peur_config = yaml.safe_load(stream)\n",
    "    TECH_COLORS = peur_config[\"plotting\"][\"tech_colors\"]\n",
    "    NICE_NAMES = peur_config[\"plotting\"][\"nice_names\"]"
   ]
  },
  {
   "cell_type": "code",
   "execution_count": null,
   "metadata": {},
   "outputs": [],
   "source": [
    "dimensions = [\"solar\", \"wind\", \"transmission\", \"H2\", \"battery\"]\n",
    "senses = [\"min\", \"max\"]\n",
    "for dimension, sense in product(dimensions, senses):\n",
    "    epsilons = [0.01, 0.02,0.04,0.06,0.08]\n",
    "\n",
    "    error_data = {}\n",
    "    error_data[0.0] = pd.read_csv(f\"../results/pce/test-errors-min-cost-0.0.csv\", index_col=0)\n",
    "    for epsilon in epsilons:\n",
    "        error_data[epsilon] = pd.read_csv(f\"../results/pce/test-errors-{sense}-{dimension}-{epsilon}.csv\", index_col=0)\n",
    "\n",
    "    error_data = pd.concat(error_data, axis=0, names=[\"epsilon\", \"carrier\"])\n",
    "\n",
    "    for error in [\"r2\", \"mape\", \"mae\"]:\n",
    "\n",
    "        fig, ax = plt.subplots(figsize=(4,3))\n",
    "\n",
    "        df = error_data[error].unstack(\"carrier\")\n",
    "\n",
    "        c = df.columns.map(TECH_COLORS)\n",
    "        df.columns = df.columns.map(NICE_NAMES)\n",
    "        df.index = [100*i for i in df.index]\n",
    "\n",
    "        df.plot(ax=ax, color=c)\n",
    "        plt.box(False)\n",
    "        plt.grid(False)\n",
    "        plt.legend(frameon=False, bbox_to_anchor=(1.01,1.01))\n",
    "        plt.xlabel(r\"$\\varepsilon$ [%]\")\n",
    "        plt.ylabel(error.upper())\n",
    "\n",
    "        ylim = dict(r2=[0.75,1.02], mape=[-1,20], mae=[-1,35], variance_explained=[0.75,1.02])\n",
    "        plt.ylim(ylim[error])\n",
    "        \n",
    "        plt.title(f\"{sense.capitalize()} {NICE_NAMES[dimension]}\")\n",
    "\n",
    "        plt.savefig(f\"graphics/errorepsilon/ee-{sense}-{dimension}-{error}.pdf\", bbox_inches='tight')\n",
    "        \n",
    "        plt.close(fig)"
   ]
  },
  {
   "cell_type": "code",
   "execution_count": null,
   "metadata": {},
   "outputs": [],
   "source": []
  },
  {
   "cell_type": "code",
   "execution_count": null,
   "metadata": {},
   "outputs": [],
   "source": []
  }
 ],
 "metadata": {
  "kernelspec": {
   "display_name": "",
   "language": "python",
   "name": ""
  },
  "language_info": {
   "codemirror_mode": {
    "name": "ipython",
    "version": 3
   },
   "file_extension": ".py",
   "mimetype": "text/x-python",
   "name": "python",
   "nbconvert_exporter": "python",
   "pygments_lexer": "ipython3",
   "version": "3.9.7"
  }
 },
 "nbformat": 4,
 "nbformat_minor": 4
}