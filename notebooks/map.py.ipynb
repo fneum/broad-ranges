{
 "cells": [
  {
   "cell_type": "code",
   "execution_count": null,
   "metadata": {},
   "outputs": [],
   "source": [
    "import pypsa\n",
    "import cartopy.crs as ccrs\n",
    "import matplotlib.pyplot as plt\n",
    "plt.style.use([\"../matplotlibrc\", \"bmh\"])"
   ]
  },
  {
   "cell_type": "code",
   "execution_count": null,
   "metadata": {},
   "outputs": [],
   "source": [
    "n37 = pypsa.Network(\"../results/network_fidelity/elec_s_37_ec_lcopt_4H-onwind+c0.68-offwind+c0.888-solar+c0.782-H2+c0.615-battery+c0.592.nc\")"
   ]
  },
  {
   "cell_type": "code",
   "execution_count": null,
   "metadata": {},
   "outputs": [],
   "source": [
    "n128 = pypsa.Network(\"../results/network_fidelity/elec_s_128_ec_lcopt_2H-onwind+c0.68-offwind+c0.888-solar+c0.782-H2+c0.615-battery+c0.592.nc\")"
   ]
  },
  {
   "cell_type": "code",
   "execution_count": null,
   "metadata": {},
   "outputs": [],
   "source": [
    "fig, ax = plt.subplots(figsize=(5,5), subplot_kw={\"projection\":ccrs.Mercator()})\n",
    "n37.plot(ax=ax, line_colors=\"darkseagreen\", bus_sizes=.1, color_geomap={'ocean': 'white', 'land': 'whitesmoke'}, boundaries=[-10.2,28.5,36,69])\n",
    "plt.gca().outline_patch.set_visible(False)\n",
    "plt.savefig(\"graphics/map37.pdf\", bbox_inches='tight')"
   ]
  },
  {
   "cell_type": "code",
   "execution_count": null,
   "metadata": {},
   "outputs": [],
   "source": [
    "fig, ax = plt.subplots(figsize=(5,5), subplot_kw={\"projection\":ccrs.Mercator()})\n",
    "n128.plot(ax=ax, bus_sizes=.1, color_geomap={'ocean': 'white', 'land': 'whitesmoke'}, boundaries=[-10.2,28.5,36,69])\n",
    "plt.gca().outline_patch.set_visible(False)\n",
    "plt.savefig(\"graphics/map128.pdf\", bbox_inches='tight')"
   ]
  },
  {
   "cell_type": "code",
   "execution_count": null,
   "metadata": {},
   "outputs": [],
   "source": [
    "fig, ax = plt.subplots(figsize=(5,2))\n",
    "n128.generators_t.p_max_pu.loc[\"03-05-2013\":\"03-08-2013\",\"DE0 15 solar\"].plot(drawstyle=\"steps\", color=\"#f9d002\", label='solar')\n",
    "n128.generators_t.p_max_pu.loc[\"03-05-2013\":\"03-08-2013\",\"DE0 15 onwind\"].plot(drawstyle=\"steps\", color=\"#235ebc\", label='onshore wind')\n",
    "l = n128.loads_t.p_set.loc[\"03-05-2013\":\"03-08-2013\",\"DE0 15\"]\n",
    "l /= l.max()\n",
    "l.plot(drawstyle=\"steps\", color=\"teal\", label='load')\n",
    "plt.box(False)\n",
    "plt.grid(False)\n",
    "plt.xlabel(\"\")\n",
    "plt.ylabel(\"per-unit\")\n",
    "plt.legend(bbox_to_anchor=(1,1.2), ncol=3, frameon=False)\n",
    "plt.savefig(\"graphics/timeseries128.pdf\", bbox_inches='tight')"
   ]
  },
  {
   "cell_type": "code",
   "execution_count": null,
   "metadata": {},
   "outputs": [],
   "source": [
    "fig, ax = plt.subplots(figsize=(5,2))\n",
    "n37.generators_t.p_max_pu.loc[\"03-05-2013\":\"03-08-2013\",\"DE0 0 solar\"].plot(drawstyle=\"steps\", color=\"#f9d002\", label='solar')\n",
    "n37.generators_t.p_max_pu.loc[\"03-05-2013\":\"03-08-2013\",\"DE0 0 onwind\"].plot(drawstyle=\"steps\", color=\"#235ebc\", label='onshore wind')\n",
    "l = n37.loads_t.p_set.loc[\"03-05-2013\":\"03-08-2013\",\"DE0 0\"]\n",
    "l /= l.max()\n",
    "l.plot(drawstyle=\"steps\", color=\"teal\", label='load')\n",
    "plt.box(False)\n",
    "plt.grid(False)\n",
    "plt.xlabel(\"\")\n",
    "plt.ylabel(\"per-unit\")\n",
    "plt.legend(bbox_to_anchor=(1,1.2), ncol=3, frameon=False)\n",
    "plt.savefig(\"graphics/timeseries37.pdf\", bbox_inches='tight')"
   ]
  },
  {
   "cell_type": "code",
   "execution_count": null,
   "metadata": {},
   "outputs": [],
   "source": []
  }
 ],
 "metadata": {
  "kernelspec": {
   "display_name": "",
   "language": "python",
   "name": ""
  },
  "language_info": {
   "codemirror_mode": {
    "name": "ipython",
    "version": 3
   },
   "file_extension": ".py",
   "mimetype": "text/x-python",
   "name": "python",
   "nbconvert_exporter": "python",
   "pygments_lexer": "ipython3",
   "version": "3.9.7"
  }
 },
 "nbformat": 4,
 "nbformat_minor": 4
}