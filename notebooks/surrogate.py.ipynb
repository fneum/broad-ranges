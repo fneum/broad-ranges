{
 "cells": [
  {
   "cell_type": "code",
   "execution_count": null,
   "metadata": {},
   "outputs": [],
   "source": [
    "%load_ext autoreload\n",
    "%autoreload 2"
   ]
  },
  {
   "cell_type": "code",
   "execution_count": null,
   "metadata": {},
   "outputs": [],
   "source": [
    "import chaospy\n",
    "import numpoly\n",
    "import yaml\n",
    "import numpy as np\n",
    "import pandas as pd\n",
    "import sys, os\n",
    "from itertools import combinations\n",
    "from numpy.random import random\n",
    "\n",
    "import seaborn as sns\n",
    "import matplotlib.pyplot as plt\n",
    "%matplotlib inline\n",
    "plt.style.use([\"bmh\", \"../matplotlibrc\"])\n",
    "\n",
    "from sklearn.model_selection import train_test_split"
   ]
  },
  {
   "cell_type": "code",
   "execution_count": null,
   "metadata": {},
   "outputs": [],
   "source": [
    "sys.path.insert(0, os.getcwd() + \"/../scripts\")\n",
    "import _helpers as h\n",
    "import _plotters as p\n",
    "from surrogate import build_surrogate\n",
    "from neural_network import build_neural_network\n",
    "from sobol import calculate_sobol"
   ]
  },
  {
   "cell_type": "markdown",
   "metadata": {},
   "source": [
    "## PCE Surrogate Modelling"
   ]
  },
  {
   "cell_type": "code",
   "execution_count": null,
   "metadata": {},
   "outputs": [],
   "source": [
    "with open(\"../config.yaml\", 'r') as stream:\n",
    "    config = yaml.safe_load(stream)"
   ]
  },
  {
   "cell_type": "code",
   "execution_count": null,
   "metadata": {},
   "outputs": [],
   "source": [
    "with open(\"../config.pypsaeur.yaml\", 'r') as stream:\n",
    "    TECH_COLORS = yaml.safe_load(stream)[\"plotting\"][\"tech_colors\"]"
   ]
  },
  {
   "cell_type": "code",
   "execution_count": null,
   "metadata": {},
   "outputs": [],
   "source": [
    "datafile = \"../results/capacities-50halton.csv\"\n",
    "order = 1\n",
    "distribution = h.NamedJ(config[\"uncertainties\"])"
   ]
  },
  {
   "cell_type": "code",
   "execution_count": null,
   "metadata": {},
   "outputs": [],
   "source": [
    "dataset = h.load_dataset(datafile)"
   ]
  },
  {
   "cell_type": "code",
   "execution_count": null,
   "metadata": {},
   "outputs": [],
   "source": [
    "train_set, test_set = train_test_split(dataset, **config[\"train_test_split\"])"
   ]
  },
  {
   "cell_type": "code",
   "execution_count": null,
   "metadata": {},
   "outputs": [],
   "source": [
    "surrogate = build_surrogate(order, distribution, train_set)"
   ]
  },
  {
   "cell_type": "code",
   "execution_count": null,
   "metadata": {},
   "outputs": [],
   "source": [
    "train_samples = h.multiindex2df(train_set.index)\n",
    "train_predictions = h.build_pce_prediction(surrogate, train_samples)\n",
    "\n",
    "test_samples = h.multiindex2df(test_set.index)\n",
    "test_predictions = h.build_pce_prediction(surrogate, test_samples)"
   ]
  },
  {
   "cell_type": "markdown",
   "metadata": {},
   "source": [
    "### Evaluation"
   ]
  },
  {
   "cell_type": "code",
   "execution_count": null,
   "metadata": {},
   "outputs": [],
   "source": [
    "p.plot_histograms(dataset, [train_predictions, test_predictions], fn=\"graphics/histograms.pdf\")"
   ]
  },
  {
   "cell_type": "code",
   "execution_count": null,
   "metadata": {},
   "outputs": [],
   "source": [
    "dataset.mean()"
   ]
  },
  {
   "cell_type": "code",
   "execution_count": null,
   "metadata": {},
   "outputs": [],
   "source": [
    "h.calculate_errors(train_predictions, train_set).mean().round(3)"
   ]
  },
  {
   "cell_type": "code",
   "execution_count": null,
   "metadata": {},
   "outputs": [],
   "source": [
    "h.calculate_errors(test_predictions, test_set).mean().round(3)"
   ]
  },
  {
   "cell_type": "markdown",
   "metadata": {},
   "source": [
    "## Error vs Order"
   ]
  },
  {
   "cell_type": "code",
   "execution_count": null,
   "metadata": {},
   "outputs": [],
   "source": [
    "list(range(1,7))"
   ]
  },
  {
   "cell_type": "code",
   "execution_count": null,
   "metadata": {},
   "outputs": [],
   "source": [
    "results = {}\n",
    "for o in range(1,8):\n",
    "    \n",
    "    print(o, end=\" \")\n",
    "\n",
    "    surrogate = build_surrogate(o, distribution, train_set)\n",
    "\n",
    "    test_samples = h.multiindex2df(test_set.index)\n",
    "    test_predictions = h.build_pce_prediction(surrogate, test_samples)\n",
    "    \n",
    "    results[o] = h.calculate_errors(test_predictions, test_set)\n",
    "    \n",
    "df = pd.concat(results, axis=1)"
   ]
  },
  {
   "cell_type": "code",
   "execution_count": null,
   "metadata": {},
   "outputs": [],
   "source": [
    "measure = \"mape\"\n",
    "data = df.T.unstack(level=0).loc[measure].unstack().T\n",
    "\n",
    "colors = [TECH_COLORS[c] for c in data.columns]\n",
    "\n",
    "fig, ax = plt.subplots(figsize=(4.5,3.5))\n",
    "data.plot(ax=ax, color=colors)\n",
    "plt.legend(bbox_to_anchor=(1.02,1))\n",
    "plt.xlabel(\"order of polynomial\")\n",
    "plt.ylabel(measure.capitalize())\n",
    "plt.title(\"800 training samples\")\n",
    "if measure == \"mape\":\n",
    "    plt.ylim([0,30])\n",
    "elif measure == \"r2\":\n",
    "    plt.ylim([0.7,1.05])\n",
    "plt.savefig(f\"graphics/error-{measure}-vs-order.pdf\", bbox_inches='tight')"
   ]
  },
  {
   "cell_type": "markdown",
   "metadata": {},
   "source": [
    "## Error vs Samples"
   ]
  },
  {
   "cell_type": "code",
   "execution_count": null,
   "metadata": {},
   "outputs": [],
   "source": [
    "results = {}\n",
    "for i in np.arange(100, 801, 25):\n",
    "    \n",
    "    print(i, end=\" \")\n",
    "\n",
    "    surrogate = build_surrogate(order, distribution, train_set[:i])\n",
    "\n",
    "    test_samples = h.multiindex2df(test_set.index)\n",
    "    test_predictions = h.build_pce_prediction(surrogate, test_samples)\n",
    "    \n",
    "    results[i] = h.calculate_errors(test_predictions, test_set)\n",
    "    \n",
    "df = pd.concat(results, axis=1)"
   ]
  },
  {
   "cell_type": "code",
   "execution_count": null,
   "metadata": {},
   "outputs": [],
   "source": [
    "data = df.T.unstack(level=0).loc[\"r2\"].unstack().T\n",
    "\n",
    "colors = [TECH_COLORS[c] for c in data.columns]\n",
    "\n",
    "fig, ax = plt.subplots(figsize=(4.5,3.5))\n",
    "data.plot(ax=ax, color=colors)\n",
    "plt.legend(bbox_to_anchor=(1.02,1))\n",
    "plt.xlabel(\"training samples\")\n",
    "plt.ylabel(\"R2\")\n",
    "plt.title(\"Order = 5\")\n",
    "#plt.savefig(\"graphics/error-r2-vs-samples-order-5.pdf\", bbox_inches='tight')"
   ]
  },
  {
   "cell_type": "markdown",
   "metadata": {},
   "source": [
    "### Sensitivity Analysis"
   ]
  },
  {
   "cell_type": "code",
   "execution_count": null,
   "metadata": {},
   "outputs": [],
   "source": [
    "sobol_t = calculate_sobol(surrogate, distribution)\n",
    "sobol_t"
   ]
  },
  {
   "cell_type": "code",
   "execution_count": null,
   "metadata": {},
   "outputs": [],
   "source": [
    "sobol_m = calculate_sobol(surrogate, distribution, sobol='m')\n",
    "sobol_m"
   ]
  },
  {
   "cell_type": "code",
   "execution_count": null,
   "metadata": {},
   "outputs": [],
   "source": [
    "def calculate_sobol_m2(surrogate, distribution, decimals=3):\n",
    "    sobol = chaospy.Sens_m2(surrogate, distribution.J).round(decimals)\n",
    "    return pd.DataFrame(sobol, index=distribution.names, columns=distribution.names)"
   ]
  },
  {
   "cell_type": "code",
   "execution_count": null,
   "metadata": {},
   "outputs": [],
   "source": [
    "sobol_m2_tsc = calculate_sobol_m2(surrogate[\"tsc\"], distribution)"
   ]
  },
  {
   "cell_type": "code",
   "execution_count": null,
   "metadata": {},
   "outputs": [],
   "source": [
    "sobol_m2_transmission = calculate_sobol_m2(surrogate[\"transmission\"], distribution)"
   ]
  },
  {
   "cell_type": "code",
   "execution_count": null,
   "metadata": {},
   "outputs": [],
   "source": [
    "sobol_m2_solar = calculate_sobol_m2(surrogate[\"solar\"], distribution)"
   ]
  },
  {
   "cell_type": "code",
   "execution_count": null,
   "metadata": {},
   "outputs": [],
   "source": [
    "def plot_sobol_m2(sobol, title=\"\", fn=None):\n",
    "    fig, ax = plt.subplots(figsize=(3,3))\n",
    "    mask=np.triu(np.ones(sobol.shape)).astype(np.bool)\n",
    "    sns.heatmap(sobol, mask=mask, square=True, cmap=\"Blues\",\n",
    "            vmax=.2,\n",
    "            vmin=0,\n",
    "            annot=True,\n",
    "            fmt=\".2f\",\n",
    "            cbar=False,)\n",
    "    plt.title(title)\n",
    "    if fn is not None:\n",
    "        plt.savefig(fn, bbox_inches='tight')"
   ]
  },
  {
   "cell_type": "code",
   "execution_count": null,
   "metadata": {},
   "outputs": [],
   "source": [
    "plot_sobol_m2(sobol_m2_tsc, \"TSC\", \"graphics/sobol-tsc-m2.pdf\")"
   ]
  },
  {
   "cell_type": "code",
   "execution_count": null,
   "metadata": {},
   "outputs": [],
   "source": [
    "plot_sobol_m2(sobol_m2_transmission, \"transmission\", \"graphics/sobol-transmission-m2.pdf\")"
   ]
  },
  {
   "cell_type": "code",
   "execution_count": null,
   "metadata": {},
   "outputs": [],
   "source": [
    "plot_sobol_m2(sobol_m2_solar, \"solar\", \"graphics/sobol-solar-m2.pdf\")"
   ]
  },
  {
   "cell_type": "code",
   "execution_count": null,
   "metadata": {},
   "outputs": [],
   "source": [
    "p.plot_sobol(sobol_t, fn='graphics/sobol-t.pdf')"
   ]
  },
  {
   "cell_type": "code",
   "execution_count": null,
   "metadata": {},
   "outputs": [],
   "source": [
    "p.plot_sobol(sobol_m, fn='graphics/sobol-m.pdf')"
   ]
  },
  {
   "cell_type": "code",
   "execution_count": null,
   "metadata": {},
   "outputs": [],
   "source": [
    "p.plot_sobol(sobol_t - sobol_m, fn='graphics/sobol-diff.pdf')"
   ]
  },
  {
   "cell_type": "code",
   "execution_count": null,
   "metadata": {},
   "outputs": [],
   "source": [
    "def plot_sobol_bar(sobol, relative=True, fn=None):\n",
    "\n",
    "    fig, ax = plt.subplots(figsize=(5,3))\n",
    "\n",
    "    colors = [TECH_COLORS[s] for s in sobol_t.index]\n",
    "    \n",
    "    if relative:\n",
    "        sobol = sobol / sobol.sum()\n",
    "\n",
    "    sobol.T.plot.bar(ax=ax, stacked=True, color=colors)\n",
    "    plt.legend(bbox_to_anchor=(1,1.01), ncol=1)\n",
    "    plt.ylim([0,1])\n",
    "\n",
    "    if fn is not None:\n",
    "        plt.savefig(fn, bbox_inches='tight')"
   ]
  },
  {
   "cell_type": "code",
   "execution_count": null,
   "metadata": {},
   "outputs": [],
   "source": [
    "plot_sobol_bar(sobol_m, relative=False, fn=\"graphics/sobol-m-bar.pdf\")"
   ]
  },
  {
   "cell_type": "code",
   "execution_count": null,
   "metadata": {},
   "outputs": [],
   "source": [
    "plot_sobol_bar(sobol_t, relative=True, fn=\"graphics/sobol-t-bar.pdf\")"
   ]
  },
  {
   "cell_type": "code",
   "execution_count": null,
   "metadata": {},
   "outputs": [],
   "source": [
    "plot_sobol_bar(sobol_t - sobol_m, relative=False, fn=\"graphics/sobol-diff-bar.pdf\")"
   ]
  },
  {
   "cell_type": "markdown",
   "metadata": {},
   "source": [
    "## 2D-Plots"
   ]
  },
  {
   "cell_type": "code",
   "execution_count": null,
   "metadata": {},
   "outputs": [],
   "source": [
    "def plot_2D(surrogate, distribution, variable, xname, yname, xsamples=(0.5,1.5,20), ysamples=(0.5,1.5,20), \n",
    "            fixed=1, dataset=None, contour_handles=None, vmin=130, vmax=270, levels=25, fn=None):\n",
    "    \n",
    "    xs = np.linspace(*xsamples)\n",
    "    ys = np.linspace(*ysamples)\n",
    "\n",
    "    surrogate_var = surrogate[variable]\n",
    "\n",
    "    # TODO substitute distribution since only used for variable mapping\n",
    "    to_qindex = distribution.mapping\n",
    "    all_q = set(surrogate_var.names)\n",
    "\n",
    "    qx = \"q\" + str(to_qindex[xname])\n",
    "    qy = \"q\" + str(to_qindex[yname])\n",
    "\n",
    "    if isinstance(fixed, (float, int)):\n",
    "        fixed = {qo: fixed for qo in all_q - {qx, qy}}\n",
    "    elif isinstance(fixed, dict):\n",
    "        fixed = {\"q\" + str(to_qindex[k]): v for k, v in fixed.items()}\n",
    "    else:\n",
    "        raise NotImplementedError(\"Fixed input parameters not properly specified.\")\n",
    "\n",
    "    assert set(fixed.keys()).union({qx, qy}) == all_q, \"Not all input parameters specified!\"\n",
    "\n",
    "    zpoly = surrogate_var(**fixed)\n",
    "\n",
    "    z = np.array([zpoly(**{qx: xs, qy: y}) for y in ys])\n",
    "\n",
    "    if contour_handles is None:\n",
    "\n",
    "        def idx():\n",
    "            return int(np.round(random())) % 2\n",
    "\n",
    "        rng = [vmin-5,vmax+5]\n",
    "        dim1 = [rng[idx()] for i in range(ys.shape[0])]\n",
    "        zdummy = np.array(xs.shape[0]*[dim1])\n",
    "\n",
    "        contour_handles = plt.contourf(xs, ys, zdummy, levels=25, vmin=vmin, vmax=vmax)\n",
    "\n",
    "        plt.close()\n",
    "\n",
    "    fig, ax = plt.subplots(figsize=(6,5))\n",
    "\n",
    "    plt.contourf(xs, ys, z, levels=contour_handles.levels)\n",
    "\n",
    "    cbar = plt.colorbar(contour_handles, label=variable)\n",
    "\n",
    "    plt.xlabel(f\"{xname}-cost\")\n",
    "    plt.ylabel(f\"{yname}-cost\")\n",
    "\n",
    "    if dataset is not None:\n",
    "        df = dataset.reset_index().astype(float)\n",
    "        x = df[f\"{xname}-cost\"]\n",
    "        y = df[f\"{yname}-cost\"]\n",
    "        plt.scatter(x, y, marker='.', s=5, alpha=0.2, color='grey')\n",
    "\n",
    "    if fn is not None:\n",
    "        plt.savefig(fn, bbox_inches='tight')\n",
    "\n",
    "    plt.close()"
   ]
  },
  {
   "cell_type": "code",
   "execution_count": null,
   "metadata": {},
   "outputs": [],
   "source": [
    "# TODO use multiprocessing\n",
    "var = \"tsc\"\n",
    "for i, j in combinations(distribution.names, 2):\n",
    "    for fixed in [0.5,1.0]:\n",
    "        plot_2D(surrogate, distribution, var, i, j, fixed=fixed, dataset=dataset, fn=f\"graphics/2D/2D-{var}-{i}-{j}-{fixed}.pdf\")"
   ]
  },
  {
   "cell_type": "markdown",
   "metadata": {},
   "source": [
    "## 1D Plots"
   ]
  },
  {
   "cell_type": "code",
   "execution_count": null,
   "metadata": {},
   "outputs": [],
   "source": [
    "def plot_1D(surrogate, variable, parameter, coords, distribution, sample=10000, dataset=None, color_by_var=True, fn=None):\n",
    "    \n",
    "    poly = surrogate[variable]\n",
    "    symbol = f\"q{distribution.mapping[parameter]}\"\n",
    "    if color_by_var:\n",
    "        color = TECH_COLORS[var]\n",
    "    else:\n",
    "        color = TECH_COLORS[parameter]\n",
    "    percentiles = [5,25,50,75,95]\n",
    "    \n",
    "    P = []\n",
    "    for coord in coords:\n",
    "        symvalues = {symbol: coord}\n",
    "        P.append(chaospy.Perc(poly(**symvalues), percentiles, distribution.J, sample=sample))\n",
    "    P = np.array(P)\n",
    "    \n",
    "    fig, ax = plt.subplots(figsize=(3,3))\n",
    "    plt.plot(coords, P[:,2], linewidth=1, label=\"Q50\", color=color);\n",
    "    plt.fill_between(coords, P[:,1], P[:,3], alpha=0.2, label=\"Q25/Q75\", color=color)\n",
    "    plt.fill_between(coords, P[:,0], P[:,4], alpha=0.2, label=\"Q5/Q95\", color='grey')\n",
    "    plt.ylabel(variable)\n",
    "    plt.xlabel(f\"{parameter}-cost\")\n",
    "    plt.legend(frameon=False)\n",
    "    \n",
    "    if var == \"tsc\":\n",
    "        plt.ylim([130,270])\n",
    "    elif var in [\"H2\", \"battery\"]:\n",
    "        plt.ylim([0,250])\n",
    "    elif var == \"transmission\":\n",
    "        plt.ylim([0,900])\n",
    "    else:\n",
    "        plt.ylim([0,1400])\n",
    "    \n",
    "    if dataset is not None:\n",
    "        df = dataset.reset_index().astype(float)\n",
    "        plt.scatter(df[f\"{parameter}-cost\"], df[variable], marker='.', s=5, alpha=0.1, color='grey')\n",
    "\n",
    "    if fn is not None:\n",
    "        plt.savefig(fn, bbox_inches='tight')\n",
    "        \n",
    "    plt.close()"
   ]
  },
  {
   "cell_type": "code",
   "execution_count": null,
   "metadata": {},
   "outputs": [],
   "source": [
    "# TODO use multiprocessing\n",
    "for var in set(dataset.columns):\n",
    "    for param in distribution.names:\n",
    "        print(param, var)\n",
    "        fn = f\"graphics/1D/1D-{var}-{param}.pdf\"\n",
    "        if os.path.isfile(fn):\n",
    "            continue\n",
    "        plot_1D(surrogate, var, param, np.linspace(0.5,1.5,25), distribution, sample=20000, dataset=dataset, fn=fn)"
   ]
  },
  {
   "cell_type": "markdown",
   "metadata": {},
   "source": [
    "## Pure Machine Learning with `sklearn`"
   ]
  },
  {
   "cell_type": "code",
   "execution_count": null,
   "metadata": {
    "scrolled": true
   },
   "outputs": [],
   "source": [
    "neural_network = build_neural_network(train_set, config[\"neural_network\"])"
   ]
  },
  {
   "cell_type": "code",
   "execution_count": null,
   "metadata": {},
   "outputs": [],
   "source": [
    "train_predictions = h.build_ann_prediction(neural_network, train_samples, train_set)\n",
    "test_predictions = h.build_ann_prediction(neural_network, test_samples, test_set)"
   ]
  },
  {
   "cell_type": "code",
   "execution_count": null,
   "metadata": {},
   "outputs": [],
   "source": [
    "p.plot_histograms(dataset, [train_predictions, test_predictions])"
   ]
  },
  {
   "cell_type": "code",
   "execution_count": null,
   "metadata": {},
   "outputs": [],
   "source": [
    "h.calculate_errors(train_predictions, train_set).mean()"
   ]
  },
  {
   "cell_type": "code",
   "execution_count": null,
   "metadata": {},
   "outputs": [],
   "source": [
    "h.calculate_errors(test_predictions, test_set).mean()"
   ]
  },
  {
   "cell_type": "markdown",
   "metadata": {},
   "source": [
    "## Multi-fidelity approach\n",
    "\n",
    "- many more samples in very low resolution model"
   ]
  },
  {
   "cell_type": "markdown",
   "metadata": {},
   "source": [
    "## Another Easy Benchmark to Beat:\n",
    "\n",
    "- Surrogate is obtained from MC sampling for 37 nodes and 6-hourly resolution"
   ]
  },
  {
   "cell_type": "code",
   "execution_count": null,
   "metadata": {},
   "outputs": [],
   "source": [
    "# TODO"
   ]
  },
  {
   "cell_type": "code",
   "execution_count": null,
   "metadata": {},
   "outputs": [],
   "source": []
  },
  {
   "cell_type": "markdown",
   "metadata": {},
   "source": []
  },
  {
   "cell_type": "code",
   "execution_count": null,
   "metadata": {},
   "outputs": [],
   "source": [
    "fig, ax = plt.subplots(figsize=(4,3))\n",
    "dataset.tsc.sort_values().reset_index().plot(ax=ax)"
   ]
  },
  {
   "cell_type": "code",
   "execution_count": null,
   "metadata": {},
   "outputs": [],
   "source": [
    "fig, ax = plt.subplots(figsize=(4,2.5))\n",
    "df = (dataset.tsc/dataset.tsc.min()*100-100).sort_values().reset_index()\n",
    "df.index = [i/len(df.index)*100 for i in df.index]\n",
    "df.plot(ax=ax)\n",
    "plt.xlabel(\"% of samples\")\n",
    "plt.ylabel(\"% more than least-cost\")\n",
    "plt.savefig(\"graphics/cost-duration-curve.pdf\", bbox_inches='tight')"
   ]
  },
  {
   "cell_type": "code",
   "execution_count": null,
   "metadata": {},
   "outputs": [],
   "source": [
    "df = dataset.tsc.reset_index()\n",
    "df = df.astype(\"float\")"
   ]
  },
  {
   "cell_type": "code",
   "execution_count": null,
   "metadata": {},
   "outputs": [],
   "source": [
    "df[\"tscrel\"] = df.tsc/df.tsc.min()"
   ]
  },
  {
   "cell_type": "code",
   "execution_count": null,
   "metadata": {},
   "outputs": [],
   "source": [
    "def plot_kde(df, lower, upper, parameter, fn=None):\n",
    "    fig, ax = plt.subplots(figsize=(4,2.5))\n",
    "    df[parameter].plot.hist(label='all', color='lightgray', density=True, alpha=0.8)\n",
    "    df.loc[df.tscrel<lower][parameter].plot.kde(label=f'low (<{lower})')\n",
    "    df.loc[df.tscrel>upper][parameter].plot.kde(label=f\"high (>{upper})\")\n",
    "    df.loc[(df.tscrel>=lower) & (df.tscrel<=upper)][parameter].plot.kde(label='medium')\n",
    "    plt.xlabel(parameter)\n",
    "    plt.ylim([0,3])\n",
    "    plt.legend(frameon=False)\n",
    "    if fn is not None:\n",
    "        plt.savefig(f\"graphics/kde-{parameter}.pdf\", bbox_inches='tight')"
   ]
  },
  {
   "cell_type": "code",
   "execution_count": null,
   "metadata": {},
   "outputs": [],
   "source": [
    "plot_kde(df, 1.2, 1.6, \"onwind-cost\", fn=True)"
   ]
  },
  {
   "cell_type": "code",
   "execution_count": null,
   "metadata": {},
   "outputs": [],
   "source": [
    "plot_kde(df, 1.2, 1.6, \"offwind-cost\", fn=True)"
   ]
  },
  {
   "cell_type": "code",
   "execution_count": null,
   "metadata": {},
   "outputs": [],
   "source": [
    "plot_kde(df, 1.2, 1.6, \"solar-cost\", fn=True)"
   ]
  },
  {
   "cell_type": "code",
   "execution_count": null,
   "metadata": {},
   "outputs": [],
   "source": [
    "plot_kde(df, 1.2, 1.6, \"battery-cost\", fn=True)"
   ]
  },
  {
   "cell_type": "code",
   "execution_count": null,
   "metadata": {},
   "outputs": [],
   "source": [
    "plot_kde(df, 1.2, 1.6, \"H2-cost\", fn=True)"
   ]
  },
  {
   "cell_type": "code",
   "execution_count": null,
   "metadata": {},
   "outputs": [],
   "source": []
  }
 ],
 "metadata": {
  "kernelspec": {
   "display_name": "",
   "language": "python",
   "name": ""
  },
  "language_info": {
   "codemirror_mode": {
    "name": "ipython",
    "version": 3
   },
   "file_extension": ".py",
   "mimetype": "text/x-python",
   "name": "python",
   "nbconvert_exporter": "python",
   "pygments_lexer": "ipython3",
   "version": "3.7.6"
  }
 },
 "nbformat": 4,
 "nbformat_minor": 4
}