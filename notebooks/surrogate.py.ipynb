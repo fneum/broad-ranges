{
 "cells": [
  {
   "cell_type": "code",
   "execution_count": null,
   "metadata": {},
   "outputs": [],
   "source": [
    "%load_ext autoreload\n",
    "%autoreload 2"
   ]
  },
  {
   "cell_type": "code",
   "execution_count": null,
   "metadata": {},
   "outputs": [],
   "source": [
    "import chaospy\n",
    "import numpoly\n",
    "import yaml\n",
    "import numpy as np\n",
    "import pandas as pd\n",
    "import sys, os\n",
    "from numpy.random import random\n",
    "\n",
    "import seaborn as sns\n",
    "import matplotlib.pyplot as plt\n",
    "%matplotlib inline\n",
    "plt.style.use([\"bmh\", \"../matplotlibrc\"])\n",
    "\n",
    "from sklearn.model_selection import train_test_split"
   ]
  },
  {
   "cell_type": "code",
   "execution_count": null,
   "metadata": {},
   "outputs": [],
   "source": [
    "sys.path.insert(0, os.getcwd() + \"/../scripts\")\n",
    "import _helpers as h\n",
    "import _plotters as p\n",
    "from surrogate import build_surrogate\n",
    "from neural_network import build_neural_network\n",
    "from sobol import calculate_sobol"
   ]
  },
  {
   "cell_type": "markdown",
   "metadata": {},
   "source": [
    "## PCE Surrogate Modelling"
   ]
  },
  {
   "cell_type": "code",
   "execution_count": null,
   "metadata": {},
   "outputs": [],
   "source": [
    "with open(\"../config.yaml\", 'r') as stream:\n",
    "    config = yaml.safe_load(stream)"
   ]
  },
  {
   "cell_type": "code",
   "execution_count": null,
   "metadata": {},
   "outputs": [],
   "source": [
    "with open(\"../config.pypsaeur.yaml\", 'r') as stream:\n",
    "    TECH_COLORS = yaml.safe_load(stream)[\"plotting\"][\"tech_colors\"]"
   ]
  },
  {
   "cell_type": "code",
   "execution_count": null,
   "metadata": {},
   "outputs": [],
   "source": [
    "datafile = \"../results/capacities-50halton.csv\"\n",
    "order = 3"
   ]
  },
  {
   "cell_type": "code",
   "execution_count": null,
   "metadata": {},
   "outputs": [],
   "source": [
    "dataset = h.load_dataset(datafile)\n",
    "distribution = h.NamedJ(config[\"uncertainties\"])"
   ]
  },
  {
   "cell_type": "code",
   "execution_count": null,
   "metadata": {},
   "outputs": [],
   "source": [
    "train_set, test_set = train_test_split(dataset, **config[\"train_test_split\"])"
   ]
  },
  {
   "cell_type": "code",
   "execution_count": null,
   "metadata": {},
   "outputs": [],
   "source": [
    "surrogate = build_surrogate(order, distribution, train_set)"
   ]
  },
  {
   "cell_type": "code",
   "execution_count": null,
   "metadata": {},
   "outputs": [],
   "source": [
    "train_samples = h.multiindex2df(train_set.index)\n",
    "train_predictions = h.build_pce_prediction(surrogate, train_samples)\n",
    "\n",
    "test_samples = h.multiindex2df(test_set.index)\n",
    "test_predictions = h.build_pce_prediction(surrogate, test_samples)"
   ]
  },
  {
   "cell_type": "markdown",
   "metadata": {},
   "source": [
    "### Evaluation"
   ]
  },
  {
   "cell_type": "code",
   "execution_count": null,
   "metadata": {},
   "outputs": [],
   "source": [
    "p.plot_histograms(dataset, [train_predictions, test_predictions])"
   ]
  },
  {
   "cell_type": "code",
   "execution_count": null,
   "metadata": {},
   "outputs": [],
   "source": [
    "dataset.mean()"
   ]
  },
  {
   "cell_type": "code",
   "execution_count": null,
   "metadata": {},
   "outputs": [],
   "source": [
    "h.calculate_errors(train_predictions, train_set).mean()"
   ]
  },
  {
   "cell_type": "code",
   "execution_count": null,
   "metadata": {},
   "outputs": [],
   "source": [
    "h.calculate_errors(test_predictions, test_set).mean()"
   ]
  },
  {
   "cell_type": "markdown",
   "metadata": {},
   "source": [
    "### Sensitivity Analysis"
   ]
  },
  {
   "cell_type": "code",
   "execution_count": null,
   "metadata": {},
   "outputs": [],
   "source": [
    "sobol_t = calculate_sobol(surrogate, distribution)\n",
    "sobol_t"
   ]
  },
  {
   "cell_type": "code",
   "execution_count": null,
   "metadata": {},
   "outputs": [],
   "source": [
    "sobol_m = calculate_sobol(surrogate, distribution, sobol='m')\n",
    "sobol_m"
   ]
  },
  {
   "cell_type": "code",
   "execution_count": null,
   "metadata": {},
   "outputs": [],
   "source": [
    "def calculate_sobol_m2(surrogate, distribution, decimals=3):\n",
    "    sobol = chaospy.Sens_m2(surrogate, distribution.J).round(decimals)\n",
    "    return pd.DataFrame(sobol, index=distribution.names, columns=distribution.names)"
   ]
  },
  {
   "cell_type": "code",
   "execution_count": null,
   "metadata": {},
   "outputs": [],
   "source": [
    "sobol_m2_tsc = calculate_sobol_m2(surrogate[\"tsc\"], distribution)"
   ]
  },
  {
   "cell_type": "code",
   "execution_count": null,
   "metadata": {},
   "outputs": [],
   "source": [
    "sobol_m2_transmission = calculate_sobol_m2(surrogate[\"transmission\"], distribution)"
   ]
  },
  {
   "cell_type": "code",
   "execution_count": null,
   "metadata": {},
   "outputs": [],
   "source": [
    "sobol_m2_solar = calculate_sobol_m2(surrogate[\"solar\"], distribution)"
   ]
  },
  {
   "cell_type": "code",
   "execution_count": null,
   "metadata": {},
   "outputs": [],
   "source": [
    "def plot_sobol_m2(sobol, title=\"\", fn=None):\n",
    "    fig, ax = plt.subplots(figsize=(3,3))\n",
    "    mask=np.triu(np.ones(sobol.shape)).astype(np.bool)\n",
    "    sns.heatmap(sobol, mask=mask, square=True, cmap=\"Blues\",\n",
    "            vmax=.2,\n",
    "            vmin=0,\n",
    "            annot=True,\n",
    "            fmt=\".2f\",\n",
    "            cbar=False,)\n",
    "    plt.title(title)\n",
    "    if fn is not None:\n",
    "        plt.savefig(fn, bbox_inches='tight')"
   ]
  },
  {
   "cell_type": "code",
   "execution_count": null,
   "metadata": {},
   "outputs": [],
   "source": [
    "plot_sobol_m2(sobol_m2_tsc, \"TSC\", \"sobol-tsc-m2.pdf\")"
   ]
  },
  {
   "cell_type": "code",
   "execution_count": null,
   "metadata": {},
   "outputs": [],
   "source": [
    "plot_sobol_m2(sobol_m2_transmission, \"transmission\", \"sobol-transmission-m2.pdf\")"
   ]
  },
  {
   "cell_type": "code",
   "execution_count": null,
   "metadata": {},
   "outputs": [],
   "source": [
    "plot_sobol_m2(sobol_m2_solar, \"solar\", \"sobol-solar-m2.pdf\")"
   ]
  },
  {
   "cell_type": "code",
   "execution_count": null,
   "metadata": {},
   "outputs": [],
   "source": [
    "p.plot_sobol(sobol_t, fn='sobol-t.pdf')"
   ]
  },
  {
   "cell_type": "code",
   "execution_count": null,
   "metadata": {},
   "outputs": [],
   "source": [
    "p.plot_sobol(sobol_m, fn='sobol-m.pdf')"
   ]
  },
  {
   "cell_type": "code",
   "execution_count": null,
   "metadata": {},
   "outputs": [],
   "source": [
    "p.plot_sobol(sobol_t - sobol_m, fn='sobol-diff.pdf')"
   ]
  },
  {
   "cell_type": "code",
   "execution_count": null,
   "metadata": {},
   "outputs": [],
   "source": [
    "def plot_sobol_bar(sobol, relative=True, fn=None):\n",
    "\n",
    "    fig, ax = plt.subplots(figsize=(5,3))\n",
    "\n",
    "    colors = [TECH_COLORS[s] for s in sobol_t.index]\n",
    "    \n",
    "    if relative:\n",
    "        sobol = sobol / sobol.sum()\n",
    "\n",
    "    sobol.T.plot.bar(ax=ax, stacked=True, color=colors)\n",
    "    plt.legend(bbox_to_anchor=(1,1.01), ncol=1)\n",
    "    plt.ylim([0,1])\n",
    "\n",
    "    if fn is not None:\n",
    "        plt.savefig(fn, bbox_inches='tight')"
   ]
  },
  {
   "cell_type": "code",
   "execution_count": null,
   "metadata": {},
   "outputs": [],
   "source": [
    "plot_sobol_bar(sobol_m, relative=False, fn=\"sobol-m-bar.pdf\")"
   ]
  },
  {
   "cell_type": "code",
   "execution_count": null,
   "metadata": {},
   "outputs": [],
   "source": [
    "plot_sobol_bar(sobol_t, relative=True, fn=\"sobol-t-bar.pdf\")"
   ]
  },
  {
   "cell_type": "code",
   "execution_count": null,
   "metadata": {},
   "outputs": [],
   "source": [
    "plot_sobol_bar(sobol_t - sobol_m, relative=False, fn=\"sobol-diff-bar.pdf\")"
   ]
  },
  {
   "cell_type": "markdown",
   "metadata": {},
   "source": [
    "## 2D-Plots"
   ]
  },
  {
   "cell_type": "code",
   "execution_count": null,
   "metadata": {},
   "outputs": [],
   "source": [
    "def plot_2D(surrogate, variable, xname, yname, xsamples=(0.5,1.5,20), ysamples=(0.5,1.5,20), dataset=None, contour_handles=None, vmin=130, vmax=260, levels=25, fn=None):\n",
    "    pass"
   ]
  },
  {
   "cell_type": "code",
   "execution_count": null,
   "metadata": {},
   "outputs": [],
   "source": [
    "xs = np.linspace(*xsamples)\n",
    "ys = np.linspace(*ysamples)\n",
    "\n",
    "# TODO: pass fixed values in function\n",
    "zpoly = surrogate[variable](q2=1, q3=1, q4=1)\n",
    "\n",
    "# TODO: accessing variables\n",
    "z = np.array([zpoly(q0=x, q1=ys) for x in xs])\n",
    "\n",
    "if contour_handles is None:\n",
    "    \n",
    "    def idx():\n",
    "        return int(np.round(random())) % 2\n",
    "\n",
    "    rng = [vmin-5,vmax+5]\n",
    "    dim1 = [rng[idx()] for i in range(ys.shape[0])]\n",
    "    zdummy = np.array(xs.shape[0]*[dim1])\n",
    "    \n",
    "    contour_handles = plt.contourf(xs, ys, zdummy, levels=25, vmin=vmin, vmax=vmax)\n",
    "    \n",
    "    plt.close()\n",
    "    \n",
    "fig, ax = plt.subplots(figsize=(6,5))\n",
    "    \n",
    "plt.contourf(xs, ys, z, levels=contour_handles.levels)\n",
    "\n",
    "cbar = plt.colorbar(contour_handles, label=variable)\n",
    "\n",
    "plt.xlabel(f\"{xname}-cost\")\n",
    "plt.ylabel(f\"{yname}-cost\")\n",
    "\n",
    "if dataset is not None:\n",
    "    df = dataset.reset_index().astype(float)\n",
    "    plt.scatter(df[f\"{xname}-cost\"], df[f\"{yname}-cost\"], marker='.', s=5, alpha=0.2, color='grey')\n",
    "    \n",
    "if fn is not None:\n",
    "    plt.savefig(fn, bbox_inches='tight')\n",
    "    \n",
    "plt.close()"
   ]
  },
  {
   "cell_type": "raw",
   "metadata": {},
   "source": [
    "from mpl_toolkits.axes_grid1.inset_locator import inset_axes\n",
    "# TODO: plot pie charts of system composition at selected positions\n",
    "# pie_charts defines coordinates: e.g. [(1.0,1.0), (0.6,0.6)]\n",
    "if len(pie_charts):\n",
    "    print(\"Sorry, pie charts not implemented yet!\")\n",
    "    # https://github.com/PyPSA/PyPSA/blob/531b7f4edb515a8cb916dfcbe785796b3b662ed0/pypsa/plot.py#L197-L213\n",
    "    # https://stackoverflow.com/questions/45266955/adding-pie-chart-at-given-coordinates-to-cartopy-projection\n",
    "ax_sub = inset_axes(ax, width=0.4, height=0.4, bbox_to_anchor=(1, 1), bbox_transform=ax.transData, loc=10, borderpad=0)\n",
    "ax_sub.pie([1,2,3,4,5])\n",
    "ax_sub.set_aspect(\"equal\")"
   ]
  },
  {
   "cell_type": "code",
   "execution_count": null,
   "metadata": {},
   "outputs": [],
   "source": [
    "x = y = np.linspace(0.5,1.5,20)\n",
    "z = surrogate[\"tsc\"](q2=1, q3=1, q4=1)\n",
    "\n",
    "Z = []\n",
    "for i in x:\n",
    "    Z.append(z(q0=i, q1=y))\n",
    "Z = np.array(Z)\n",
    "\n",
    "fig, ax = plt.subplots(figsize=(6,5))\n",
    "plt.contourf(x, y, Z, levels=cs.levels)\n",
    "cbar = fig.colorbar(cs, label=\"TSC\", ax=ax)\n",
    "plt.xlabel(\"offwind-cost\")\n",
    "plt.ylabel(\"onwind-cost\")\n",
    "\n",
    "df = dataset.reset_index().astype(float)\n",
    "plt.scatter(df[\"onwind-cost\"], df[\"offwind-cost\"], marker='.', s=5, alpha=0.2, color='grey')\n",
    "\n",
    "plt.savefig(\"2D-onwind-offwind-H2-100.pdf\", bbox_inches='tight')"
   ]
  },
  {
   "cell_type": "code",
   "execution_count": null,
   "metadata": {},
   "outputs": [],
   "source": [
    "x = y = np.linspace(0.5,1.5,20)\n",
    "z = surrogate[\"tsc\"](q2=1, q3=1.5, q4=1)\n",
    "\n",
    "Z = []\n",
    "for i in x:\n",
    "    Z.append(z(q0=i, q1=y))\n",
    "Z = np.array(Z)\n",
    "\n",
    "fig, ax = plt.subplots(figsize=(6,5))\n",
    "plt.contourf(x, y, Z, levels=cs.levels)\n",
    "cbar = plt.colorbar(cs, label=\"TSC\")\n",
    "plt.xlabel(\"offwind-cost\")\n",
    "plt.ylabel(\"onwind-cost\")\n",
    "\n",
    "\n",
    "df = dataset.reset_index().astype(float)\n",
    "plt.scatter(df[\"onwind-cost\"], df[\"offwind-cost\"], marker='.', s=5, alpha=0.2, color='grey')\n",
    "\n",
    "plt.savefig(\"2D-onwind-offwind-H2-150.pdf\", bbox_inches='tight')"
   ]
  },
  {
   "cell_type": "code",
   "execution_count": null,
   "metadata": {},
   "outputs": [],
   "source": [
    "x = y = np.linspace(0.5,1.5,20)\n",
    "z = surrogate[\"tsc\"](q2=1, q3=0.5, q4=1)\n",
    "\n",
    "Z = []\n",
    "for i in x:\n",
    "    Z.append(z(q0=i, q1=y))\n",
    "Z = np.array(Z)\n",
    "\n",
    "fig, ax = plt.subplots(figsize=(6,5))\n",
    "plt.contourf(x, y, Z, levels=cs.levels)\n",
    "cbar = plt.colorbar(cs, label=\"TSC\")\n",
    "plt.xlabel(\"offwind-cost\")\n",
    "plt.ylabel(\"onwind-cost\")\n",
    "\n",
    "\n",
    "df = dataset.reset_index().astype(float)\n",
    "plt.scatter(df[\"onwind-cost\"], df[\"offwind-cost\"], marker='.', s=5, alpha=0.2, color='grey')\n",
    "\n",
    "plt.savefig(\"2D-onwind-offwind-H2-050.pdf\", bbox_inches='tight')"
   ]
  },
  {
   "cell_type": "code",
   "execution_count": null,
   "metadata": {},
   "outputs": [],
   "source": [
    "x = y = np.linspace(0.5,1.5,20)\n",
    "z = surrogate[\"tsc\"](q0=1, q2=1, q4=1)\n",
    "\n",
    "Z = []\n",
    "for i in x:\n",
    "    Z.append(z(q1=i, q3=y))\n",
    "Z = np.array(Z)\n",
    "\n",
    "fig, ax = plt.subplots(figsize=(6,5))\n",
    "plt.contourf(x, y, Z, levels=cs.levels)\n",
    "cbar = plt.colorbar(cs, label=\"TSC\")\n",
    "plt.xlabel(\"H2-cost\")\n",
    "plt.ylabel(\"offwind-cost\")\n",
    "\n",
    "\n",
    "df = dataset.reset_index().astype(float)\n",
    "plt.scatter(df[\"onwind-cost\"], df[\"offwind-cost\"], marker='.', s=5, alpha=0.2, color='grey')\n",
    "\n",
    "plt.savefig(\"2D-H2-offwind.pdf\", bbox_inches='tight')"
   ]
  },
  {
   "cell_type": "code",
   "execution_count": null,
   "metadata": {},
   "outputs": [],
   "source": [
    "x = y = np.linspace(0.5,1.5,20)\n",
    "z = surrogate[\"tsc\"](q0=1, q2=1, q3=1)\n",
    "\n",
    "Z = []\n",
    "for i in x:\n",
    "    Z.append(z(q1=i, q4=y))\n",
    "Z = np.array(Z)\n",
    "\n",
    "fig, ax = plt.subplots(figsize=(6,5))\n",
    "plt.contourf(x, y, Z, levels=cs.levels, vmin=135, vmax=250)\n",
    "cbar = plt.colorbar(cs, label=\"TSC\")\n",
    "plt.xlabel(\"battery-cost\")\n",
    "plt.ylabel(\"offwind-cost\")\n",
    "\n",
    "df = dataset.reset_index().astype(float)\n",
    "plt.scatter(df[\"onwind-cost\"], df[\"offwind-cost\"], marker='.', s=5, alpha=0.2, color='grey')\n",
    "\n",
    "plt.savefig(\"2D-battery-offwind.pdf\", bbox_inches='tight')"
   ]
  },
  {
   "cell_type": "markdown",
   "metadata": {},
   "source": [
    "## 1D Plots"
   ]
  },
  {
   "cell_type": "code",
   "execution_count": null,
   "metadata": {},
   "outputs": [],
   "source": [
    "def plot_1D(surrogate, variable, parameter, coords, distribution, sample=10000, dataset=None, color_by_var=True, fn=None):\n",
    "    \n",
    "    poly = surrogate[variable]\n",
    "    symbol = f\"q{distribution.mapping[parameter]}\"\n",
    "    if color_by_var:\n",
    "        color = TECH_COLORS[var]\n",
    "    else:\n",
    "        color = TECH_COLORS[parameter]\n",
    "    percentiles = [5,25,50,75,95]\n",
    "    \n",
    "    P = []\n",
    "    for coord in coords:\n",
    "        symvalues = {symbol: coord}\n",
    "        P.append(chaospy.Perc(poly(**symvalues), percentiles, distribution.J, sample=sample))\n",
    "    P = np.array(P)\n",
    "    \n",
    "    fig, ax = plt.subplots(figsize=(3,3))\n",
    "    plt.plot(coords, P[:,2], linewidth=1, label=\"Q50\", color=color);\n",
    "    plt.fill_between(coords, P[:,1], P[:,3], alpha=0.2, label=\"Q25/Q75\", color=color)\n",
    "    plt.fill_between(coords, P[:,0], P[:,4], alpha=0.2, label=\"Q5/Q95\", color='grey')\n",
    "    plt.ylabel(variable)\n",
    "    plt.xlabel(f\"{parameter}-cost\")\n",
    "    plt.legend(frameon=False)\n",
    "    \n",
    "    if var == \"tsc\":\n",
    "        plt.ylim([130,270])\n",
    "    elif var in [\"H2\", \"battery\"]:\n",
    "        plt.ylim([0,250])\n",
    "    elif var == \"transmission\":\n",
    "        plt.ylim([0,900])\n",
    "    else:\n",
    "        plt.ylim([0,1400])\n",
    "    \n",
    "    if dataset is not None:\n",
    "        df = dataset.reset_index().astype(float)\n",
    "        plt.scatter(df[f\"{parameter}-cost\"], df[variable], marker='.', alpha=0.1, color='grey')\n",
    "\n",
    "    if fn is not None:\n",
    "        plt.savefig(fn, bbox_inches='tight')\n",
    "        \n",
    "    plt.close()"
   ]
  },
  {
   "cell_type": "code",
   "execution_count": null,
   "metadata": {},
   "outputs": [],
   "source": [
    "# TODO use multiprocessing\n",
    "for var in set(dataset.columns):\n",
    "    for param in distribution.names:\n",
    "        print(param, var)\n",
    "        fn = f\"graphics/1D/1D-{var}-{param}.pdf\"\n",
    "        if os.path.isfile(fn):\n",
    "            continue\n",
    "        plot_1D(surrogate, var, param, np.linspace(0.5,1.5,25), distribution, sample=20000, dataset=dataset, fn=fn)"
   ]
  },
  {
   "cell_type": "code",
   "execution_count": null,
   "metadata": {},
   "outputs": [],
   "source": []
  },
  {
   "cell_type": "code",
   "execution_count": null,
   "metadata": {},
   "outputs": [],
   "source": []
  },
  {
   "cell_type": "code",
   "execution_count": null,
   "metadata": {},
   "outputs": [],
   "source": []
  },
  {
   "cell_type": "markdown",
   "metadata": {},
   "source": [
    "## Pure Machine Learning with `sklearn`"
   ]
  },
  {
   "cell_type": "code",
   "execution_count": null,
   "metadata": {},
   "outputs": [],
   "source": [
    "with open(\"../config.yaml\", 'r') as stream:\n",
    "    config = yaml.safe_load(stream)"
   ]
  },
  {
   "cell_type": "code",
   "execution_count": null,
   "metadata": {
    "scrolled": true
   },
   "outputs": [],
   "source": [
    "neural_network = build_neural_network(train_set, config[\"neural_network\"])"
   ]
  },
  {
   "cell_type": "code",
   "execution_count": null,
   "metadata": {},
   "outputs": [],
   "source": [
    "train_predictions = h.build_ann_prediction(neural_network, train_samples, train_set)\n",
    "test_predictions = h.build_ann_prediction(neural_network, test_samples, test_set)"
   ]
  },
  {
   "cell_type": "markdown",
   "metadata": {},
   "source": [
    "### Evaluation"
   ]
  },
  {
   "cell_type": "code",
   "execution_count": null,
   "metadata": {},
   "outputs": [],
   "source": [
    "p.plot_histograms(dataset, [train_predictions, test_predictions])"
   ]
  },
  {
   "cell_type": "code",
   "execution_count": null,
   "metadata": {},
   "outputs": [],
   "source": [
    "h.calculate_errors(train_predictions, train_set).mean()"
   ]
  },
  {
   "cell_type": "code",
   "execution_count": null,
   "metadata": {},
   "outputs": [],
   "source": [
    "h.calculate_errors(test_predictions, test_set).mean()"
   ]
  },
  {
   "cell_type": "markdown",
   "metadata": {},
   "source": [
    "## Multi-fidelity approach\n",
    "\n",
    "- many more samples in very low resolution model"
   ]
  },
  {
   "cell_type": "markdown",
   "metadata": {},
   "source": [
    "## Another Easy Benchmark to Beat:\n",
    "\n",
    "- Surrogate is obtained from MC sampling for 37 nodes and 6-hourly resolution"
   ]
  },
  {
   "cell_type": "code",
   "execution_count": null,
   "metadata": {},
   "outputs": [],
   "source": [
    "# TODO"
   ]
  },
  {
   "cell_type": "code",
   "execution_count": null,
   "metadata": {},
   "outputs": [],
   "source": []
  }
 ],
 "metadata": {
  "kernelspec": {
   "display_name": "",
   "language": "python",
   "name": ""
  },
  "language_info": {
   "codemirror_mode": {
    "name": "ipython",
    "version": 3
   },
   "file_extension": ".py",
   "mimetype": "text/x-python",
   "name": "python",
   "nbconvert_exporter": "python",
   "pygments_lexer": "ipython3",
   "version": "3.7.6"
  }
 },
 "nbformat": 4,
 "nbformat_minor": 4
}