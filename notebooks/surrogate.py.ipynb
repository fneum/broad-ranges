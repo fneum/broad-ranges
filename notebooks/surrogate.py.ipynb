{
 "cells": [
  {
   "cell_type": "code",
   "execution_count": null,
   "metadata": {},
   "outputs": [],
   "source": [
    "%load_ext autoreload\n",
    "%autoreload 2"
   ]
  },
  {
   "cell_type": "code",
   "execution_count": null,
   "metadata": {},
   "outputs": [],
   "source": [
    "import chaospy\n",
    "import numpoly\n",
    "import yaml\n",
    "import numpy as np\n",
    "import pandas as pd\n",
    "import sys, os\n",
    "from itertools import combinations, product\n",
    "from numpy.random import random\n",
    "import multiprocessing as mp\n",
    "from sklearn import linear_model as lm\n",
    "\n",
    "import seaborn as sns\n",
    "import matplotlib.pyplot as plt\n",
    "%matplotlib inline\n",
    "plt.style.use([\"bmh\", \"../matplotlibrc\"])\n",
    "\n",
    "from sklearn.model_selection import train_test_split"
   ]
  },
  {
   "cell_type": "code",
   "execution_count": null,
   "metadata": {},
   "outputs": [],
   "source": [
    "sys.path.insert(0, os.getcwd() + \"/../scripts\")\n",
    "import _helpers as h\n",
    "import _plotters as p\n",
    "from surrogate import build_surrogate, apply_multifidelity\n",
    "from sobol import calculate_sobol, calculate_sobol_m2"
   ]
  },
  {
   "cell_type": "markdown",
   "metadata": {},
   "source": [
    "## PCE Surrogate Modelling"
   ]
  },
  {
   "cell_type": "code",
   "execution_count": null,
   "metadata": {},
   "outputs": [],
   "source": [
    "lf_datafile = \"../results/dataset_low.csv\"\n",
    "hf_datafile = \"../results/dataset_high.csv\"\n",
    "dimension = \"cost\"\n",
    "sense = \"min\"\n",
    "eps = None\n",
    "order = 3\n",
    "multifidelity = \"additive\""
   ]
  },
  {
   "cell_type": "code",
   "execution_count": null,
   "metadata": {},
   "outputs": [],
   "source": [
    "with open(\"../config.yaml\", 'r') as stream:\n",
    "    config = yaml.safe_load(stream)"
   ]
  },
  {
   "cell_type": "code",
   "execution_count": null,
   "metadata": {},
   "outputs": [],
   "source": [
    "with open(\"../config.pypsaeur.yaml\", 'r') as stream:\n",
    "    peur_cf = yaml.safe_load(stream)[\"plotting\"]\n",
    "    TECH_COLORS = peur_cf[\"tech_colors\"]\n",
    "    NAMES = peur_cf[\"nice_names\"]"
   ]
  },
  {
   "cell_type": "code",
   "execution_count": null,
   "metadata": {},
   "outputs": [],
   "source": [
    "import pypsa\n",
    "\n",
    "n = pypsa.Network(\"../data/elec_s_37_ec.nc\")\n",
    "\n",
    "ANNUITIES = pd.concat([\n",
    "        n.generators.groupby('carrier').capital_cost.mean().div(1e3).round(1),\n",
    "        n.storage_units.groupby('carrier').capital_cost.mean().div(1e3).round(1)\n",
    "    ])\n",
    "ANNUITIES[\"offwind\"] = 0.5 * ANNUITIES[\"offwind-ac\"] + 0.5 * ANNUITIES[\"offwind-dc\"]\n",
    "ANNUITIES.drop([\"offwind-ac\", \"offwind-dc\", \"ror\", \"hydro\", \"PHS\"], inplace=True)"
   ]
  },
  {
   "cell_type": "code",
   "execution_count": null,
   "metadata": {},
   "outputs": [],
   "source": [
    "uncertainties = config[\"uncertainties\"]\n",
    "distribution = h.NamedJ(uncertainties)"
   ]
  },
  {
   "cell_type": "code",
   "execution_count": null,
   "metadata": {},
   "outputs": [],
   "source": [
    "dataset = h.load_dataset(lf_datafile, dimension, sense, eps)\n",
    "hf_dataset = h.load_dataset(hf_datafile, dimension, sense, eps)"
   ]
  },
  {
   "cell_type": "code",
   "execution_count": null,
   "metadata": {},
   "outputs": [],
   "source": [
    "dataset.drop(\"gini\", axis=1, inplace=True)\n",
    "hf_dataset.drop(\"gini\", axis=1, inplace=True)"
   ]
  },
  {
   "cell_type": "code",
   "execution_count": null,
   "metadata": {},
   "outputs": [],
   "source": [
    "train_set, test_set = train_test_split(dataset, **config[\"train_test_split\"])"
   ]
  },
  {
   "cell_type": "code",
   "execution_count": null,
   "metadata": {},
   "outputs": [],
   "source": [
    "sklearn = lm.Lars(verbose=True, fit_intercept=False)"
   ]
  },
  {
   "cell_type": "code",
   "execution_count": null,
   "metadata": {},
   "outputs": [],
   "source": [
    "surrogate = build_surrogate(order, distribution, train_set, sklearn)"
   ]
  },
  {
   "cell_type": "code",
   "execution_count": null,
   "metadata": {},
   "outputs": [],
   "source": [
    "train_samples = h.multiindex2df(train_set.index)\n",
    "train_predictions = h.build_pce_prediction(surrogate, train_samples)\n",
    "\n",
    "test_samples = h.multiindex2df(test_set.index)\n",
    "test_predictions = h.build_pce_prediction(surrogate, test_samples)"
   ]
  },
  {
   "cell_type": "markdown",
   "metadata": {},
   "source": [
    "## Validation"
   ]
  },
  {
   "cell_type": "code",
   "execution_count": null,
   "metadata": {},
   "outputs": [],
   "source": [
    "p.plot_histograms(dataset, [train_predictions, test_predictions], fn=\"graphics/histograms.pdf\")"
   ]
  },
  {
   "cell_type": "code",
   "execution_count": null,
   "metadata": {},
   "outputs": [],
   "source": [
    "h.calculate_errors(train_predictions, train_set).round(2)"
   ]
  },
  {
   "cell_type": "code",
   "execution_count": null,
   "metadata": {},
   "outputs": [],
   "source": [
    "h.calculate_errors(test_predictions, test_set).round(2)"
   ]
  },
  {
   "cell_type": "markdown",
   "metadata": {},
   "source": [
    "### Error vs Order"
   ]
  },
  {
   "cell_type": "code",
   "execution_count": null,
   "metadata": {},
   "outputs": [],
   "source": [
    "def plot_error_vs_order(save=False, sklearn=None, max_order=6, max_n=400):\n",
    "\n",
    "    results = {}\n",
    "    for o in range(0,max_order):\n",
    "\n",
    "        print(o, end=\" \")\n",
    "\n",
    "        surrogate = build_surrogate(o, distribution, train_set[:max_n], sklearn)\n",
    "\n",
    "        test_samples = h.multiindex2df(test_set.index)\n",
    "        test_predictions = h.build_pce_prediction(surrogate, test_samples)\n",
    "\n",
    "        results[o] = h.calculate_errors(test_predictions, test_set)\n",
    "\n",
    "    df = pd.concat(results, axis=1)\n",
    "\n",
    "    for measure in [\"r2\", \"mape\", \"mae\", \"rmse\"]:\n",
    "        data = df.T.unstack(level=0).loc[measure].unstack().T\n",
    "\n",
    "        colors = [TECH_COLORS[c] for c in data.columns]\n",
    "        \n",
    "        data.columns = data.columns.map(NAMES)\n",
    "\n",
    "        fig, ax = plt.subplots(figsize=(3.5,3))\n",
    "\n",
    "        data.plot(ax=ax, color=colors)\n",
    "\n",
    "        plt.legend(bbox_to_anchor=(1.02,1), frameon=False)\n",
    "        plt.xlabel(\"order of polynomial\")\n",
    "        plt.ylabel(measure.upper())\n",
    "        plt.title(f\"{len(train_set[:max_n])} training samples\")\n",
    "        plt.grid(None)\n",
    "        plt.box(False)\n",
    "\n",
    "        ylims = dict(r2=[0.6,1.05], mape=[0,30], mae=[0,100], rmse=[0,100])\n",
    "        plt.ylim(ylims[measure])\n",
    "        #if measure == \"mape\":\n",
    "        #    plt.ylim([0,25])\n",
    "        #elif measure == \"r2\":\n",
    "        #    plt.ylim([0.6,1.05])\n",
    "        #elif measure == \"variance_explained\":\n",
    "        #    plt.ylim([0.6,1.05])\n",
    "\n",
    "        if save:\n",
    "            plt.savefig(f\"graphics/error/error-{measure}-vs-order-sklearn.pdf\", bbox_inches='tight')\n",
    "            \n",
    "        plt.close()"
   ]
  },
  {
   "cell_type": "markdown",
   "metadata": {},
   "source": [
    "### Error vs Samples"
   ]
  },
  {
   "cell_type": "code",
   "execution_count": null,
   "metadata": {},
   "outputs": [],
   "source": [
    "def plot_error_vs_samples(save=False, sklearn=None, order=3):\n",
    "    results = {}\n",
    "    for i in np.arange(50, len(train_set)+1, 25):\n",
    "\n",
    "        print(i, end=\" \")\n",
    "\n",
    "        surrogate = build_surrogate(order, distribution, train_set[:i], sklearn)\n",
    "\n",
    "        test_samples = h.multiindex2df(test_set.index)\n",
    "        test_predictions = h.build_pce_prediction(surrogate, test_samples)\n",
    "\n",
    "        results[i] = h.calculate_errors(test_predictions, test_set)\n",
    "\n",
    "    df = pd.concat(results, axis=1)\n",
    "\n",
    "    for measure in [\"r2\", \"mape\", \"mae\", \"rmse\"]:\n",
    "\n",
    "        data = df.T.unstack(level=0).loc[measure].unstack().T\n",
    "\n",
    "        colors = [TECH_COLORS[c] for c in data.columns]\n",
    "        \n",
    "        data.columns = data.columns.map(NAMES)\n",
    "\n",
    "        fig, ax = plt.subplots(figsize=(3.5,3))\n",
    "\n",
    "        data.plot(ax=ax, color=colors)\n",
    "\n",
    "        plt.legend(bbox_to_anchor=(1.02,1), frameon=False)\n",
    "        plt.grid(None)\n",
    "        plt.box(False)\n",
    "        plt.xlabel(\"training samples\")\n",
    "        plt.ylabel(measure.upper())\n",
    "        plt.title(f\"order {order}\")\n",
    "        \n",
    "        ylims = dict(r2=[0.6,1.05], mape=[0,30], mae=[0,100], rmse=[0,100])\n",
    "        plt.ylim(ylims[measure])\n",
    "\n",
    "        if save:\n",
    "            plt.savefig(f\"graphics/error/error-{measure}-vs-samples-order-{order}-sklearn.pdf\", bbox_inches='tight')\n",
    "            \n",
    "        plt.close()"
   ]
  },
  {
   "cell_type": "code",
   "execution_count": null,
   "metadata": {},
   "outputs": [],
   "source": [
    "sklearn = lm.Lasso(fit_intercept=False, alpha=.005, )\n",
    "plot_error_vs_samples(True, sklearn)"
   ]
  },
  {
   "cell_type": "code",
   "execution_count": null,
   "metadata": {},
   "outputs": [],
   "source": [
    "sklearn = lm.Lasso(fit_intercept=False, alpha=.005, )\n",
    "plot_error_vs_order(True, sklearn)"
   ]
  },
  {
   "cell_type": "markdown",
   "metadata": {},
   "source": [
    "# validate multifidelity correction"
   ]
  },
  {
   "cell_type": "code",
   "execution_count": null,
   "metadata": {},
   "outputs": [],
   "source": [
    "hf_surrogate = apply_multifidelity(\n",
    "    surrogate,\n",
    "    multifidelity,\n",
    "    hf_datafile,\n",
    "    dimension,\n",
    "    sense,\n",
    "    0.0,\n",
    "    \"none\",\n",
    "    None, \n",
    "    1,\n",
    "    distribution\n",
    ")"
   ]
  },
  {
   "cell_type": "markdown",
   "metadata": {},
   "source": [
    "## Sensitivity Analysis"
   ]
  },
  {
   "cell_type": "code",
   "execution_count": null,
   "metadata": {},
   "outputs": [],
   "source": [
    "def plot_sobol_m2(sobol, title=\"\", fn=None):\n",
    "    \n",
    "    sobol = sobol.copy()\n",
    "    \n",
    "    sobol.index = sobol.index.map(NAMES)\n",
    "    sobol.columns = sobol.columns.map(NAMES)\n",
    "    \n",
    "    sobol = sobol.mul(100).round()\n",
    "    \n",
    "    fig, ax = plt.subplots(figsize=(2.5,2.5))\n",
    "    \n",
    "    mask=np.triu(np.ones(sobol.shape)).astype(np.bool)\n",
    "    \n",
    "    sns.heatmap(sobol, mask=mask, square=True, cmap=\"Purples\",\n",
    "            vmax=20,\n",
    "            vmin=0,\n",
    "            annot=True,\n",
    "            #fmt=\".2f\",\n",
    "            cbar=False,)\n",
    "    \n",
    "    plt.title(title)\n",
    "    plt.box(False)\n",
    "    \n",
    "    if fn is not None:\n",
    "        plt.savefig(fn, bbox_inches='tight')\n",
    "        \n",
    "    plt.close()"
   ]
  },
  {
   "cell_type": "code",
   "execution_count": null,
   "metadata": {},
   "outputs": [],
   "source": [
    "def plot_sobol_bar(sobol, relative=True, fn=None):\n",
    "    \n",
    "    sobol = sobol.copy()\n",
    "\n",
    "    fig, ax = plt.subplots(figsize=(4,2.5))\n",
    "\n",
    "    colors = [TECH_COLORS[s] for s in sobol.index]\n",
    "    \n",
    "    sobol.index = sobol.index.map(NAMES)\n",
    "    sobol.columns = sobol.columns.map(NAMES)\n",
    "    \n",
    "    if relative: sobol = sobol / sobol.sum()\n",
    "        \n",
    "    sobol = sobol.mul(100).round()\n",
    "\n",
    "    sobol.T.plot.bar(ax=ax, stacked=True, color=colors)\n",
    "    \n",
    "    plt.legend(bbox_to_anchor=(1.02,1.01), ncol=1, frameon=False, title=\"Cost Uncertainty\")\n",
    "    #plt.ylim([0,max(sobol.sum().max(), 100)])\n",
    "    plt.ylim([0,125])\n",
    "    plt.grid(None)\n",
    "    plt.box(False)\n",
    "    plt.ylabel(\"Sobol [%]\")\n",
    "    \n",
    "    plt.xticks(rotation=-30, ha='left')\n",
    "    \n",
    "    if fn is not None:\n",
    "        plt.savefig(fn, bbox_inches='tight')\n",
    "        \n",
    "    plt.close()"
   ]
  },
  {
   "cell_type": "code",
   "execution_count": null,
   "metadata": {},
   "outputs": [],
   "source": [
    "def plot_sobol(data, fn=None):\n",
    "    \n",
    "    data = data.copy()\n",
    "    \n",
    "    fig, ax = plt.subplots(figsize=(4, 7))\n",
    "\n",
    "    data.index = data.index.map(NAMES)\n",
    "    data.columns = data.columns.map(NAMES)\n",
    "    \n",
    "    data = data.mul(100).round()\n",
    "\n",
    "    sns.heatmap(\n",
    "        data,\n",
    "        square=True,\n",
    "        cmap=\"Purples\",\n",
    "        vmax=100,\n",
    "        vmin=0,\n",
    "        annot=True,\n",
    "        #fmt=\".2f\",\n",
    "        cbar=False,\n",
    "    )\n",
    "    plt.ylabel(\"Inputs\")\n",
    "    plt.xlabel(\"Outputs\")\n",
    "    if fn is not None:\n",
    "        plt.savefig(fn, bbox_inches=\"tight\")\n",
    "        \n",
    "    plt.close()"
   ]
  },
  {
   "cell_type": "code",
   "execution_count": null,
   "metadata": {},
   "outputs": [],
   "source": [
    "surrogates = {\"high\": hf_surrogate, \"low\": surrogate}"
   ]
  },
  {
   "cell_type": "code",
   "execution_count": null,
   "metadata": {},
   "outputs": [],
   "source": [
    "order = [\"wind\", \"onwind\", \"offwind\", \"solar\", \"transmission\", \"H2\", \"battery\", \"tsc\"]\n",
    "for fid in [\"high\", \"low\"]:\n",
    "    print(\"t\")\n",
    "    sobol_t = calculate_sobol(surrogates[fid], distribution)[order]\n",
    "    plot_sobol(sobol_t, fn=f'graphics/sobol/sobol-t-{fid}.pdf')\n",
    "    plot_sobol_bar(sobol_t, relative=False, fn=f\"graphics/sobol/sobol-t-{fid}-bar.pdf\")\n",
    "    \n",
    "    print(\"m\")\n",
    "    sobol_m = calculate_sobol(surrogates[fid], distribution, sobol='m')[order]\n",
    "    plot_sobol(sobol_m, fn=f'graphics/sobol/sobol-m-{fid}.pdf')\n",
    "    plot_sobol_bar(sobol_m, relative=False, fn=f\"graphics/sobol/sobol-m-{fid}-bar.pdf\")\n",
    "    \n",
    "    for attr in [\"offwind\", \"onwind\", \"solar\", \"transmission\"]:\n",
    "        print(attr)\n",
    "        sobol_m2 = calculate_sobol_m2(surrogates[fid][attr], distribution)\n",
    "        plot_sobol_m2(sobol_m2, NAMES[attr], f\"graphics/sobol/sobol-{attr}-m2-{fid}.pdf\")"
   ]
  },
  {
   "cell_type": "markdown",
   "metadata": {},
   "source": [
    "## only cost optimal surrogate"
   ]
  },
  {
   "cell_type": "code",
   "execution_count": null,
   "metadata": {},
   "outputs": [],
   "source": [
    "def plot_2D(surrogate, distribution, variable, xname, yname, xsamples=(0.5,1.5,20), ysamples=(0.5,1.5,20), \n",
    "            fixed=1, dataset=None, contour_handles=None, vmin=160, vmax=230, levels=25, fn=None):\n",
    "    \n",
    "    xs = np.linspace(*xsamples)\n",
    "    ys = np.linspace(*ysamples)\n",
    "\n",
    "    surrogate_var = surrogate[variable]\n",
    "\n",
    "    # TODO substitute distribution since only used for variable mapping\n",
    "    to_qindex = distribution.mapping\n",
    "    all_q = set(surrogate_var.names)\n",
    "\n",
    "    qx = \"q\" + str(to_qindex[xname])\n",
    "    qy = \"q\" + str(to_qindex[yname])\n",
    "\n",
    "    if isinstance(fixed, (float, int)):\n",
    "        fixed = {qo: fixed for qo in all_q - {qx, qy}}\n",
    "    elif isinstance(fixed, dict):\n",
    "        fixed = {\"q\" + str(to_qindex[k]): v for k, v in fixed.items()}\n",
    "    else:\n",
    "        raise NotImplementedError(\"Fixed input parameters not properly specified.\")\n",
    "\n",
    "    assert set(fixed.keys()).union({qx, qy}) == all_q, \"Not all input parameters specified!\"\n",
    "\n",
    "    zpoly = surrogate_var(**fixed)\n",
    "\n",
    "    z = np.array([zpoly(**{qx: xs, qy: y}) for y in ys])\n",
    "\n",
    "    if contour_handles is None:\n",
    "\n",
    "        def idx():\n",
    "            return int(np.round(random())) % 2\n",
    "\n",
    "        rng = [vmin-5,vmax+5]\n",
    "        dim1 = [rng[idx()] for i in range(ys.shape[0])]\n",
    "        zdummy = np.array(xs.shape[0]*[dim1])\n",
    "\n",
    "        contour_handles = plt.contourf(xs, ys, zdummy, levels=25, vmin=vmin, vmax=vmax)\n",
    "\n",
    "        plt.close()\n",
    "\n",
    "    fig, ax = plt.subplots(figsize=(6,5))\n",
    "\n",
    "    #plt.contourf(xs, ys, z, levels=contour_handles.levels)\n",
    "    plt.contourf(xs*ANNUITIES[xname], ys*ANNUITIES[yname], z, levels=contour_handles.levels)\n",
    "\n",
    "    cbar = plt.colorbar(contour_handles, label=NAMES[variable])\n",
    "\n",
    "    plt.xlabel(f\"{NAMES[xname]} Cost [EUR/kW/a]\")\n",
    "    plt.ylabel(f\"{NAMES[yname]} Cost [EUR/kW/a]\")\n",
    "    \n",
    "    plt.box(False)\n",
    "    plt.grid(None)\n",
    "\n",
    "    if dataset is not None:\n",
    "        df = dataset.reset_index().astype(float)\n",
    "        x = df[f\"{xname}-cost\"]\n",
    "        y = df[f\"{yname}-cost\"]\n",
    "        #plt.scatter(x, y, marker='.', s=5, alpha=0.2, color='grey')\n",
    "        plt.scatter(x*ANNUITIES[xname], y*ANNUITIES[yname], marker='.', s=5, alpha=0.2, color='grey')\n",
    "\n",
    "    if fn is not None:\n",
    "        plt.savefig(fn, bbox_inches='tight')\n",
    "\n",
    "    plt.close()"
   ]
  },
  {
   "cell_type": "code",
   "execution_count": null,
   "metadata": {},
   "outputs": [],
   "source": [
    "# TODO use multiprocessing\n",
    "var = \"tsc\"\n",
    "for i, j in combinations(distribution.names, 2):\n",
    "    \n",
    "    print(f\"{i} -- {j}\")\n",
    "    \n",
    "    fr = distribution[i].lower[0]\n",
    "    to = distribution[i].upper[0]\n",
    "    xsamples = (fr, to, 10)\n",
    "    \n",
    "    fr = distribution[j].lower[0]\n",
    "    to = distribution[j].upper[0]\n",
    "    ysamples = (fr, to, 10)\n",
    "    \n",
    "    print(\"low\")\n",
    "    \n",
    "    plot_2D(surrogate, distribution, var, i, j, fixed=1, \n",
    "            xsamples=xsamples, ysamples=ysamples, dataset=dataset, fn=f\"graphics/2D/2D-{var}-{i}-{j}-low.pdf\")\n",
    "    \n",
    "    print('high')\n",
    "    \n",
    "    plot_2D(hf_surrogate, distribution, var, i, j, fixed=1, \n",
    "        xsamples=xsamples, ysamples=ysamples, dataset=hf_dataset, fn=f\"graphics/2D/2D-{var}-{i}-{j}-high.pdf\")"
   ]
  },
  {
   "cell_type": "code",
   "execution_count": null,
   "metadata": {},
   "outputs": [],
   "source": [
    "def plot_1D(surrogate, variable, parameter, coords, distribution, sample=10000, dataset=None, color_by_var=True, fn=None):\n",
    "    \n",
    "    poly = surrogate[variable]\n",
    "    symbol = f\"q{distribution.mapping[parameter]}\"\n",
    "    if color_by_var:\n",
    "        color = TECH_COLORS[variable]\n",
    "    else:\n",
    "        color = TECH_COLORS[parameter]\n",
    "    percentiles = [5,25,50,75,95]\n",
    "    \n",
    "    P = []\n",
    "    for coord in coords:\n",
    "        symvalues = {symbol: coord}\n",
    "        P.append(chaospy.Perc(poly(**symvalues), percentiles, distribution.J, sample=sample))\n",
    "    P = np.array(P)\n",
    "    \n",
    "    fig, ax = plt.subplots(figsize=(3,3))\n",
    "    plt.plot(coords * ANNUITIES[parameter], P[:,2], linewidth=1, label=\"Q50\", color=color);\n",
    "    plt.fill_between(coords * ANNUITIES[parameter], P[:,1], P[:,3], alpha=0.2, label=\"Q25/Q75\", color=color)\n",
    "    plt.fill_between(coords * ANNUITIES[parameter], P[:,0], P[:,4], alpha=0.2, label=\"Q5/Q95\", color='grey')\n",
    "    \n",
    "    if variable == \"tsc\":\n",
    "        plt.ylim([130,270])\n",
    "        unit = \"bn EUR/a\"\n",
    "    elif variable in [\"H2\", \"battery\"]:\n",
    "        plt.ylim([0,450])\n",
    "        unit = \"GW\"\n",
    "    elif variable == \"transmission\":\n",
    "        plt.ylim([0,700])\n",
    "        unit = \"TWkm\"\n",
    "    elif variable == \"gini\":\n",
    "        plt.ylim([0,0.5])\n",
    "        unit = \"-\"\n",
    "    else:\n",
    "        plt.ylim([0,1400])\n",
    "        unit = \"GW\"\n",
    "        \n",
    "    plt.ylabel(f\"{NAMES[variable]} [{unit}]\", fontsize=10)\n",
    "    plt.xlabel(f\"{NAMES[parameter]} Cost\\n[EUR/kW/a]\", fontsize=10)\n",
    "    plt.legend(frameon=False)\n",
    "        \n",
    "    plt.box(False)\n",
    "    plt.grid(None)\n",
    "    \n",
    "    if dataset is not None:\n",
    "        df = dataset.reset_index().astype(float)\n",
    "        plt.scatter(df[f\"{parameter}-cost\"] * ANNUITIES[parameter], df[variable], marker='.', s=5, alpha=0.1, color='grey')\n",
    "\n",
    "    if fn is not None:\n",
    "        plt.savefig(fn, bbox_inches='tight')\n",
    "        \n",
    "    plt.close()"
   ]
  },
  {
   "cell_type": "code",
   "execution_count": null,
   "metadata": {},
   "outputs": [],
   "source": [
    "def plot_1D_mp(variant):\n",
    "    var, param = variant\n",
    "    fr = distribution[param].lower[0]\n",
    "    to = distribution[param].upper[0]\n",
    "    \n",
    "    fn = f\"graphics/1D/1D-{var}-{param}-low.pdf\"\n",
    "    plot_1D(surrogate, var, param, np.linspace(fr,to,10), distribution, sample=10000, dataset=dataset, fn=fn)\n",
    "    fn = f\"graphics/1D/1D-{var}-{param}-high.pdf\"\n",
    "    plot_1D(hf_surrogate, var, param, np.linspace(fr,to,10), distribution, sample=10000, dataset=hf_dataset, fn=fn)"
   ]
  },
  {
   "cell_type": "code",
   "execution_count": null,
   "metadata": {},
   "outputs": [],
   "source": [
    "variants = product(dataset.columns, distribution.names)\n",
    "nprocesses = mp.cpu_count()\n",
    "with mp.Pool(processes=nprocesses) as pool:\n",
    "    x = pool.map(plot_1D_mp, variants)"
   ]
  },
  {
   "cell_type": "code",
   "execution_count": null,
   "metadata": {},
   "outputs": [],
   "source": [
    "def plot_cost_duration_curve(dataset):\n",
    "    \n",
    "    fig, ax = plt.subplots(figsize=(4,2.5))\n",
    "    \n",
    "    df = (dataset.tsc/dataset.tsc.min()*100-100).sort_values().reset_index()\n",
    "    df.index = [i/len(df.index)*100 for i in df.index]\n",
    "    df.plot(ax=ax, legend=False)\n",
    "    \n",
    "    plt.box(False)\n",
    "    #plt.grid(None)\n",
    "    plt.xlabel(\"% of samples\")\n",
    "    plt.ylabel(\"% more than least-cost\")\n",
    "    \n",
    "    plt.savefig(\"graphics/cost-duration-curve.pdf\", bbox_inches='tight')"
   ]
  },
  {
   "cell_type": "code",
   "execution_count": null,
   "metadata": {},
   "outputs": [],
   "source": []
  },
  {
   "cell_type": "code",
   "execution_count": null,
   "metadata": {},
   "outputs": [],
   "source": []
  },
  {
   "cell_type": "code",
   "execution_count": null,
   "metadata": {},
   "outputs": [],
   "source": []
  }
 ],
 "metadata": {
  "kernelspec": {
   "display_name": "",
   "language": "python",
   "name": ""
  },
  "language_info": {
   "codemirror_mode": {
    "name": "ipython",
    "version": 3
   },
   "file_extension": ".py",
   "mimetype": "text/x-python",
   "name": "python",
   "nbconvert_exporter": "python",
   "pygments_lexer": "ipython3",
   "version": "3.9.7"
  }
 },
 "nbformat": 4,
 "nbformat_minor": 4
}