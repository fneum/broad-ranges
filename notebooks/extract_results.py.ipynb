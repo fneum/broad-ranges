{
 "cells": [
  {
   "cell_type": "code",
   "execution_count": null,
   "metadata": {},
   "outputs": [],
   "source": [
    "import pypsa\n",
    "import pandas as pd\n",
    "import yaml\n",
    "import re\n",
    "import xarray as xr"
   ]
  },
  {
   "cell_type": "code",
   "execution_count": null,
   "metadata": {},
   "outputs": [],
   "source": [
    "def assign_carriers(n):\n",
    "\n",
    "    if \"Load\" in n.carriers.index:\n",
    "        n.carriers = n.carriers.drop(\"Load\")\n",
    "\n",
    "    if \"carrier\" not in n.lines:\n",
    "        n.lines[\"carrier\"] = \"AC\"\n",
    "\n",
    "    if n.links.empty:\n",
    "        n.links[\"carrier\"] = pd.Series(dtype=str)\n",
    "\n",
    "    config = {\n",
    "        \"AC\": {\"color\": \"rosybrown\", \"nice_name\": \"HVAC Line\"},\n",
    "        \"DC\": {\"color\": \"darkseagreen\", \"nice_name\": \"HVDC Link\"},\n",
    "    }\n",
    "\n",
    "    for c in [\"AC\", \"DC\"]:\n",
    "        if c in n.carriers.index:\n",
    "            continue\n",
    "        n.carriers = n.carriers.append(pd.Series(config[c], name=c))\n",
    "\n",
    "def aggregate_costs(n, existing_only=False, by_carrier=True):\n",
    "\n",
    "    assign_carriers(n)\n",
    "    \n",
    "    components = dict(\n",
    "        Link=(\"p_nom\", \"p0\"),\n",
    "        Generator=(\"p_nom\", \"p\"),\n",
    "        StorageUnit=(\"p_nom\", \"p\"),\n",
    "        Store=(\"e_nom\", \"p\"),\n",
    "        Line=(\"s_nom\", None),\n",
    "    )\n",
    "\n",
    "    costs = {}\n",
    "    for c in n.iterate_components(components.keys()):\n",
    "        p_nom, p_attr = components[c.name]\n",
    "        if c.df.empty:\n",
    "            continue\n",
    "        if not existing_only:\n",
    "            p_nom += \"_opt\"\n",
    "        costs[(c.list_name, \"capital\")] = (\n",
    "            (c.df[p_nom] * c.df.capital_cost).groupby(c.df.carrier).sum()\n",
    "        )\n",
    "        if p_attr is not None:\n",
    "            p = c.pnl[p_attr].multiply(n.snapshot_weightings, axis=0).sum()\n",
    "            if c.name == \"StorageUnit\":\n",
    "                p = p.loc[p > 0]\n",
    "            costs[(c.list_name, \"marginal\")] = (\n",
    "                (p * c.df.marginal_cost).groupby(c.df.carrier).sum()\n",
    "            )\n",
    "    costs = pd.concat(costs) / 1e9  # bn EUR/a\n",
    "\n",
    "    if by_carrier:\n",
    "        costs = costs.groupby(level=2).sum()\n",
    "\n",
    "    return costs\n",
    "\n",
    "def get_stats(n):\n",
    "    stats = pd.concat(\n",
    "        [\n",
    "            n.generators.groupby(\"carrier\").p_nom_opt.sum() / 1e3,  # GW\n",
    "            n.storage_units.groupby(\"carrier\").p_nom_opt.sum() / 1e3,  # GW\n",
    "            pd.Series(\n",
    "                {\"links\": n.links.eval(\"length * (p_nom_opt) / 1e6\").sum()}\n",
    "            ),  # TWkm\n",
    "            pd.Series(\n",
    "                {\"lines\": n.lines.eval(\"length * (s_nom_opt) / 1e6\").sum()}\n",
    "            ),  # TWkm\n",
    "        ]\n",
    "    )\n",
    "    \n",
    "    stats[\"tsc\"] = aggregate_costs(n).sum()\n",
    "\n",
    "    return stats"
   ]
  },
  {
   "cell_type": "code",
   "execution_count": null,
   "metadata": {},
   "outputs": [],
   "source": [
    "with open(\"config.yaml\", 'r') as stream:\n",
    "    config = yaml.safe_load(stream)"
   ]
  },
  {
   "cell_type": "code",
   "execution_count": null,
   "metadata": {},
   "outputs": [],
   "source": [
    "# overwrite to subset\n",
    "config[\"scenario\"][\"opts\"] = [\n",
    "    \"3H-solar+1.0-onwind+1.5-offwind+1.0-H2+1.0-battery+0.5\",\n",
    "    \"3H-solar+1.0-onwind+1.5-offwind+1.5-H2+0.5-battery+1.5\",\n",
    "    \"3H-solar+1.5-onwind+0.5-offwind+0.5-H2+0.5-battery+1.5\"\n",
    "]"
   ]
  },
  {
   "cell_type": "code",
   "execution_count": null,
   "metadata": {},
   "outputs": [],
   "source": [
    "scenarios_opts = config[\"scenario\"][\"opts\"]"
   ]
  },
  {
   "cell_type": "code",
   "execution_count": null,
   "metadata": {},
   "outputs": [],
   "source": [
    "ns = {opts: pypsa.Network(f\"networks/elec_s_100_ec_lcopt_{opts}.nc\") for opts in scenarios_opts}"
   ]
  },
  {
   "cell_type": "code",
   "execution_count": null,
   "metadata": {},
   "outputs": [],
   "source": [
    "df = pd.concat({opts: get_stats(ns[opts]) for opts in scenarios_opts}, axis=1)"
   ]
  },
  {
   "cell_type": "code",
   "execution_count": null,
   "metadata": {},
   "outputs": [],
   "source": [
    "df"
   ]
  },
  {
   "cell_type": "markdown",
   "metadata": {},
   "source": [
    "## Building MultiIndex from `opts`"
   ]
  },
  {
   "cell_type": "code",
   "execution_count": null,
   "metadata": {},
   "outputs": [],
   "source": [
    "def parse(opts):\n",
    "    data = {}\n",
    "    for o in opts.split(\"-\"):\n",
    "        s = o.split(\"+\")\n",
    "        if len(s) > 1:\n",
    "            carrier = s[0]\n",
    "            factor = float(s[1])\n",
    "            data[carrier] = factor\n",
    "    return pd.Series(data)"
   ]
  },
  {
   "cell_type": "code",
   "execution_count": null,
   "metadata": {},
   "outputs": [],
   "source": [
    "idx_map = pd.concat({opts: parse(opts) for opts in scenarios_opts}, axis=1).fillna(1.)"
   ]
  },
  {
   "cell_type": "code",
   "execution_count": null,
   "metadata": {},
   "outputs": [],
   "source": [
    "df.columns = pd.MultiIndex.from_tuples([idx_map[i] for i in df.columns],\n",
    "                                       names=[f\"{i}-cost\" for i in idx_map.index])"
   ]
  },
  {
   "cell_type": "code",
   "execution_count": null,
   "metadata": {},
   "outputs": [],
   "source": [
    "df.to_csv(\"capacities.csv\")"
   ]
  },
  {
   "cell_type": "markdown",
   "metadata": {},
   "source": [
    "## Convert to `xr.Dataset`"
   ]
  },
  {
   "cell_type": "code",
   "execution_count": null,
   "metadata": {},
   "outputs": [],
   "source": [
    "ds = xr.Dataset.from_dataframe(df.T, sparse=False)"
   ]
  },
  {
   "cell_type": "code",
   "execution_count": null,
   "metadata": {},
   "outputs": [],
   "source": [
    "ds.to_netcdf(\"capacities.nc\")"
   ]
  },
  {
   "cell_type": "markdown",
   "metadata": {},
   "source": [
    "## Building multiindex from dictionary"
   ]
  },
  {
   "cell_type": "markdown",
   "metadata": {},
   "source": [
    "params = dict(\n",
    "    solar=[0.5,1.0],\n",
    "    onwind=[1.0],\n",
    "    offwind=[1.0],\n",
    "    H2=[1.0],\n",
    "    battery=[1.0])\n",
    "\n",
    "pd.MultiIndex.from_product(params.values(), names=params.keys())"
   ]
  },
  {
   "cell_type": "code",
   "execution_count": null,
   "metadata": {},
   "outputs": [],
   "source": [
    "n = ns[\"3H-solar+1.5-onwind+0.5-offwind+0.5-H2+0.5-battery+1.5\"]"
   ]
  },
  {
   "cell_type": "code",
   "execution_count": null,
   "metadata": {},
   "outputs": [],
   "source": [
    "[c.split(\"-\")[0] for c in n.carriers.index]"
   ]
  },
  {
   "cell_type": "code",
   "execution_count": null,
   "metadata": {},
   "outputs": [],
   "source": []
  },
  {
   "cell_type": "code",
   "execution_count": null,
   "metadata": {},
   "outputs": [],
   "source": []
  }
 ],
 "metadata": {
  "kernelspec": {
   "display_name": "",
   "language": "python",
   "name": ""
  },
  "language_info": {
   "codemirror_mode": {
    "name": "ipython",
    "version": 3
   },
   "file_extension": ".py",
   "mimetype": "text/x-python",
   "name": "python",
   "nbconvert_exporter": "python",
   "pygments_lexer": "ipython3",
   "version": "3.7.6"
  }
 },
 "nbformat": 4,
 "nbformat_minor": 4
}