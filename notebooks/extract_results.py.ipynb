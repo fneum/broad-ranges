{
 "cells": [
  {
   "cell_type": "code",
   "execution_count": null,
   "metadata": {},
   "outputs": [],
   "source": [
    "import pypsa\n",
    "import pandas as pd\n",
    "import yaml\n",
    "import re"
   ]
  },
  {
   "cell_type": "code",
   "execution_count": null,
   "metadata": {},
   "outputs": [],
   "source": [
    "def assign_carriers(n):\n",
    "    \n",
    "    if \"Load\" in n.carriers.index:\n",
    "        n.carriers = n.carriers.drop(\"Load\")\n",
    "    \n",
    "    if \"carrier\" not in n.lines:\n",
    "        n.lines[\"carrier\"] = \"AC\"\n",
    "    \n",
    "    if n.links.empty:\n",
    "        n.links[\"carrier\"] = pd.Series(dtype=str)\n",
    "    \n",
    "    config = {\n",
    "        \"AC\": {\"color\": \"rosybrown\", \"nice_name\": \"HVAC Line\"},\n",
    "        \"DC\": {\"color\": \"darkseagreen\", \"nice_name\": \"HVDC Link\"},\n",
    "    }\n",
    "    for c in [\"AC\", \"DC\"]:\n",
    "        if c in n.carriers.index:\n",
    "            continue\n",
    "        n.carriers = n.carriers.append(pd.Series(config[c], name=c))\n",
    "\n",
    "def aggregate_costs(n, by_carrier=True):\n",
    "    \n",
    "    assign_carriers(n)\n",
    "    \n",
    "    components = dict(\n",
    "        Link=(\"p_nom\", \"p0\"),\n",
    "        Generator=(\"p_nom\", \"p\"),\n",
    "        StorageUnit=(\"p_nom\", \"p\"),\n",
    "        Store=(\"e_nom\", \"p\"),\n",
    "        Line=(\"s_nom\", None),\n",
    "    )\n",
    "\n",
    "    costs = {}\n",
    "    for c in n.iterate_components(components.keys()):\n",
    "        p_nom, p_attr = components[c.name]\n",
    "        if c.df.empty:\n",
    "            continue\n",
    "        p_nom += \"_opt\"\n",
    "        costs[(c.list_name, \"capital\")] = (\n",
    "            (c.df[p_nom] * c.df.capital_cost).groupby(c.df.carrier).sum()\n",
    "        )\n",
    "        if p_attr is not None:\n",
    "            p = c.pnl[p_attr].multiply(n.snapshot_weightings, axis=0).sum()\n",
    "            if c.name == \"StorageUnit\":\n",
    "                p = p.loc[p > 0]\n",
    "            costs[(c.list_name, \"marginal\")] = (\n",
    "                (p * c.df.marginal_cost).groupby(c.df.carrier).sum()\n",
    "            )\n",
    "    costs = pd.concat(costs) / 1e9  # bn EUR/a\n",
    "\n",
    "    if by_carrier:\n",
    "        costs = costs.groupby(level=2).sum()\n",
    "\n",
    "    return costs\n",
    "\n",
    "def get_stats(fn):\n",
    "    \n",
    "    n = pypsa.Network(fn)\n",
    "    \n",
    "    stats = pd.concat(\n",
    "        [\n",
    "            n.generators.groupby(\"carrier\").p_nom_opt.sum() / 1e3,  # GW\n",
    "            n.storage_units.groupby(\"carrier\").p_nom_opt.sum() / 1e3,  # GW\n",
    "        ]\n",
    "    )\n",
    "    \n",
    "    lines = n.lines.eval(\"length * s_nom_opt / 1e6\").sum()\n",
    "    links = n.links.eval(\"length * p_nom_opt / 1e6\").sum()\n",
    "    stats[\"transmission\"] = lines + links\n",
    "    \n",
    "    stats[\"offwind\"] = stats[\"offwind-ac\"] + stats[\"offwind-dc\"]\n",
    "    stats[\"wind\"] = stats[\"onwind\"] + stats[\"offwind\"]\n",
    "    \n",
    "    stats[\"tsc\"] = aggregate_costs(n).sum()\n",
    "    \n",
    "    to_drop = [\"ror\", \"hydro\", \"PHS\"]\n",
    "    stats.drop(to_drop, inplace=True)\n",
    "    \n",
    "    stats.name = fn\n",
    "    \n",
    "    del n\n",
    "    \n",
    "    return stats"
   ]
  },
  {
   "cell_type": "code",
   "execution_count": null,
   "metadata": {},
   "outputs": [],
   "source": [
    "def reindex(df):\n",
    "    \n",
    "    def _fn2multiindex(fn):\n",
    "        data = {}\n",
    "        for o in fn[:-3].split(\"-\"):\n",
    "            s = o.split(\"+\")\n",
    "            if len(s) > 1:\n",
    "                carrier = s[0]\n",
    "                value = float(s[1])\n",
    "                data[carrier] = value\n",
    "        return pd.Series(data)\n",
    "\n",
    "    df.columns = pd.MultiIndex.from_frame(pd.concat(map(_fn2multiindex, df.columns), axis=1).T)\n",
    "    \n",
    "    return df"
   ]
  },
  {
   "cell_type": "code",
   "execution_count": null,
   "metadata": {},
   "outputs": [],
   "source": [
    "# overwrite to subset\n",
    "input = [\n",
    "    \"../results/networks/elec_s_100_ec_lcopt_3H-solar+1.0-onwind+1.5-offwind+1.0-H2+1.0-battery+0.5.nc\",\n",
    "    \"../results/networks/elec_s_100_ec_lcopt_3H-solar+1.0-onwind+1.5-offwind+1.5-H2+0.5-battery+1.5.nc\",\n",
    "    \"../results/networks/elec_s_100_ec_lcopt_3H-solar+1.5-onwind+0.5-offwind+0.5-H2+0.5-battery+1.5.nc\"\n",
    "]"
   ]
  },
  {
   "cell_type": "code",
   "execution_count": null,
   "metadata": {},
   "outputs": [],
   "source": [
    "import multiprocessing as mp"
   ]
  },
  {
   "cell_type": "code",
   "execution_count": null,
   "metadata": {},
   "outputs": [],
   "source": [
    "nprocesses = mp.cpu_count()\n",
    "with mp.Pool(processes=nprocesses) as pool:\n",
    "    data = pool.map(get_stats, input)\n",
    "df = reindex(pd.concat(data, axis=1))"
   ]
  },
  {
   "cell_type": "code",
   "execution_count": null,
   "metadata": {},
   "outputs": [],
   "source": [
    "df.to_csv(\"capacities.csv\")"
   ]
  },
  {
   "cell_type": "code",
   "execution_count": null,
   "metadata": {},
   "outputs": [],
   "source": []
  },
  {
   "cell_type": "code",
   "execution_count": null,
   "metadata": {},
   "outputs": [],
   "source": []
  }
 ],
 "metadata": {
  "kernelspec": {
   "display_name": "",
   "language": "python",
   "name": ""
  },
  "language_info": {
   "codemirror_mode": {
    "name": "ipython",
    "version": 3
   },
   "file_extension": ".py",
   "mimetype": "text/x-python",
   "name": "python",
   "nbconvert_exporter": "python",
   "pygments_lexer": "ipython3",
   "version": "3.7.6"
  }
 },
 "nbformat": 4,
 "nbformat_minor": 4
}