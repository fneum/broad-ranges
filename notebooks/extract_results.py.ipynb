{
 "cells": [
  {
   "cell_type": "code",
   "execution_count": 3,
   "metadata": {},
   "outputs": [],
   "source": [
    "import pypsa\n",
    "import pandas as pd\n",
    "import yaml\n",
    "import re\n",
    "import xarray as xr"
   ]
  },
  {
   "cell_type": "code",
   "execution_count": 4,
   "metadata": {},
   "outputs": [],
   "source": [
    "def assign_carriers(n):\n",
    "\n",
    "    if \"Load\" in n.carriers.index:\n",
    "        n.carriers = n.carriers.drop(\"Load\")\n",
    "\n",
    "    if \"carrier\" not in n.lines:\n",
    "        n.lines[\"carrier\"] = \"AC\"\n",
    "\n",
    "    if n.links.empty:\n",
    "        n.links[\"carrier\"] = pd.Series(dtype=str)\n",
    "\n",
    "    config = {\n",
    "        \"AC\": {\"color\": \"rosybrown\", \"nice_name\": \"HVAC Line\"},\n",
    "        \"DC\": {\"color\": \"darkseagreen\", \"nice_name\": \"HVDC Link\"},\n",
    "    }\n",
    "\n",
    "    for c in [\"AC\", \"DC\"]:\n",
    "        if c in n.carriers.index:\n",
    "            continue\n",
    "        n.carriers = n.carriers.append(pd.Series(config[c], name=c))\n",
    "\n",
    "def aggregate_costs(n, existing_only=False, by_carrier=True):\n",
    "\n",
    "    assign_carriers(n)\n",
    "    \n",
    "    components = dict(\n",
    "        Link=(\"p_nom\", \"p0\"),\n",
    "        Generator=(\"p_nom\", \"p\"),\n",
    "        StorageUnit=(\"p_nom\", \"p\"),\n",
    "        Store=(\"e_nom\", \"p\"),\n",
    "        Line=(\"s_nom\", None),\n",
    "    )\n",
    "\n",
    "    costs = {}\n",
    "    for c in n.iterate_components(components.keys()):\n",
    "        p_nom, p_attr = components[c.name]\n",
    "        if c.df.empty:\n",
    "            continue\n",
    "        if not existing_only:\n",
    "            p_nom += \"_opt\"\n",
    "        costs[(c.list_name, \"capital\")] = (\n",
    "            (c.df[p_nom] * c.df.capital_cost).groupby(c.df.carrier).sum()\n",
    "        )\n",
    "        if p_attr is not None:\n",
    "            p = c.pnl[p_attr].multiply(n.snapshot_weightings, axis=0).sum()\n",
    "            if c.name == \"StorageUnit\":\n",
    "                p = p.loc[p > 0]\n",
    "            costs[(c.list_name, \"marginal\")] = (\n",
    "                (p * c.df.marginal_cost).groupby(c.df.carrier).sum()\n",
    "            )\n",
    "    costs = pd.concat(costs) / 1e9  # bn EUR/a\n",
    "\n",
    "    if by_carrier:\n",
    "        costs = costs.groupby(level=2).sum()\n",
    "\n",
    "    return costs\n",
    "\n",
    "def get_stats(n):\n",
    "    stats = pd.concat(\n",
    "        [\n",
    "            n.generators.groupby(\"carrier\").p_nom_opt.sum() / 1e3,  # GW\n",
    "            n.storage_units.groupby(\"carrier\").p_nom_opt.sum() / 1e3,  # GW\n",
    "            pd.Series(\n",
    "                {\"links\": n.links.eval(\"length * (p_nom_opt - p_nom) / 1e6\").sum()}\n",
    "            ),  # TWkm\n",
    "            pd.Series(\n",
    "                {\"lines\": n.lines.eval(\"length * (s_nom_opt - s_nom) / 1e6\").sum()}\n",
    "            ),  # TWkm\n",
    "        ]\n",
    "    )\n",
    "    \n",
    "    stats[\"tsc\"] = aggregate_costs(n).sum()\n",
    "\n",
    "    if \"load\" in stats.index:\n",
    "        stats.drop(\"load\", inplace=True)\n",
    "\n",
    "    return stats"
   ]
  },
  {
   "cell_type": "code",
   "execution_count": 5,
   "metadata": {},
   "outputs": [],
   "source": [
    "with open(\"config.yaml\", 'r') as stream:\n",
    "    config = yaml.safe_load(stream)"
   ]
  },
  {
   "cell_type": "code",
   "execution_count": 7,
   "metadata": {},
   "outputs": [],
   "source": [
    "# overwrite to subset\n",
    "config[\"scenario\"][\"opts\"] = [\n",
    "    \"3H-solar+1.0-onwind+1.5-offwind+1.0-H2+1.0-battery+0.5\",\n",
    "    \"3H-solar+1.0-onwind+1.5-offwind+1.5-H2+0.5-battery+1.5\",\n",
    "    \"3H-solar+1.5-onwind+0.5-offwind+0.5-H2+0.5-battery+1.5\"\n",
    "]"
   ]
  },
  {
   "cell_type": "code",
   "execution_count": 8,
   "metadata": {},
   "outputs": [],
   "source": [
    "scenarios_opts = config[\"scenario\"][\"opts\"]"
   ]
  },
  {
   "cell_type": "code",
   "execution_count": 9,
   "metadata": {},
   "outputs": [
    {
     "name": "stderr",
     "output_type": "stream",
     "text": [
      "INFO:pypsa.io:Imported network elec_s_100_ec_lcopt_3H-solar+1.0-onwind+1.5-offwind+1.0-H2+1.0-battery+0.5.nc has buses, carriers, generators, lines, links, loads, storage_units\n",
      "INFO:pypsa.io:Imported network elec_s_100_ec_lcopt_3H-solar+1.0-onwind+1.5-offwind+1.5-H2+0.5-battery+1.5.nc has buses, carriers, generators, lines, links, loads, storage_units\n",
      "INFO:pypsa.io:Imported network elec_s_100_ec_lcopt_3H-solar+1.5-onwind+0.5-offwind+0.5-H2+0.5-battery+1.5.nc has buses, carriers, generators, lines, links, loads, storage_units\n"
     ]
    }
   ],
   "source": [
    "ns = {opts: pypsa.Network(f\"networks/elec_s_100_ec_lcopt_{opts}.nc\") for opts in scenarios_opts}"
   ]
  },
  {
   "cell_type": "code",
   "execution_count": 14,
   "metadata": {},
   "outputs": [],
   "source": [
    "df = pd.concat({opts: get_stats(ns[opts]) for opts in scenarios_opts}, axis=1)"
   ]
  },
  {
   "cell_type": "code",
   "execution_count": 15,
   "metadata": {},
   "outputs": [
    {
     "data": {
      "text/html": [
       "<div>\n",
       "<style scoped>\n",
       "    .dataframe tbody tr th:only-of-type {\n",
       "        vertical-align: middle;\n",
       "    }\n",
       "\n",
       "    .dataframe tbody tr th {\n",
       "        vertical-align: top;\n",
       "    }\n",
       "\n",
       "    .dataframe thead th {\n",
       "        text-align: right;\n",
       "    }\n",
       "</style>\n",
       "<table border=\"1\" class=\"dataframe\">\n",
       "  <thead>\n",
       "    <tr style=\"text-align: right;\">\n",
       "      <th></th>\n",
       "      <th>3H-solar+1.0-onwind+1.5-offwind+1.0-H2+1.0-battery+0.5</th>\n",
       "      <th>3H-solar+1.0-onwind+1.5-offwind+1.5-H2+0.5-battery+1.5</th>\n",
       "      <th>3H-solar+1.5-onwind+0.5-offwind+0.5-H2+0.5-battery+1.5</th>\n",
       "    </tr>\n",
       "  </thead>\n",
       "  <tbody>\n",
       "    <tr>\n",
       "      <th>offwind-ac</th>\n",
       "      <td>285.870438</td>\n",
       "      <td>253.908769</td>\n",
       "      <td>0.005999</td>\n",
       "    </tr>\n",
       "    <tr>\n",
       "      <th>offwind-dc</th>\n",
       "      <td>225.127161</td>\n",
       "      <td>290.121320</td>\n",
       "      <td>0.004785</td>\n",
       "    </tr>\n",
       "    <tr>\n",
       "      <th>onwind</th>\n",
       "      <td>89.849930</td>\n",
       "      <td>31.381633</td>\n",
       "      <td>1387.550558</td>\n",
       "    </tr>\n",
       "    <tr>\n",
       "      <th>ror</th>\n",
       "      <td>34.503917</td>\n",
       "      <td>34.503917</td>\n",
       "      <td>34.503917</td>\n",
       "    </tr>\n",
       "    <tr>\n",
       "      <th>solar</th>\n",
       "      <td>445.626110</td>\n",
       "      <td>385.749386</td>\n",
       "      <td>32.273482</td>\n",
       "    </tr>\n",
       "    <tr>\n",
       "      <th>H2</th>\n",
       "      <td>90.963706</td>\n",
       "      <td>181.477896</td>\n",
       "      <td>165.958901</td>\n",
       "    </tr>\n",
       "    <tr>\n",
       "      <th>PHS</th>\n",
       "      <td>54.593581</td>\n",
       "      <td>54.593581</td>\n",
       "      <td>54.593581</td>\n",
       "    </tr>\n",
       "    <tr>\n",
       "      <th>battery</th>\n",
       "      <td>83.984855</td>\n",
       "      <td>0.022561</td>\n",
       "      <td>0.011280</td>\n",
       "    </tr>\n",
       "    <tr>\n",
       "      <th>hydro</th>\n",
       "      <td>99.562201</td>\n",
       "      <td>99.562201</td>\n",
       "      <td>99.562201</td>\n",
       "    </tr>\n",
       "    <tr>\n",
       "      <th>links</th>\n",
       "      <td>31.268197</td>\n",
       "      <td>23.097868</td>\n",
       "      <td>28.174029</td>\n",
       "    </tr>\n",
       "    <tr>\n",
       "      <th>lines</th>\n",
       "      <td>314.188554</td>\n",
       "      <td>290.111672</td>\n",
       "      <td>291.157508</td>\n",
       "    </tr>\n",
       "    <tr>\n",
       "      <th>tsc</th>\n",
       "      <td>221.855833</td>\n",
       "      <td>209.287434</td>\n",
       "      <td>143.842435</td>\n",
       "    </tr>\n",
       "  </tbody>\n",
       "</table>\n",
       "</div>"
      ],
      "text/plain": [
       "            3H-solar+1.0-onwind+1.5-offwind+1.0-H2+1.0-battery+0.5  \\\n",
       "offwind-ac                                         285.870438        \n",
       "offwind-dc                                         225.127161        \n",
       "onwind                                              89.849930        \n",
       "ror                                                 34.503917        \n",
       "solar                                              445.626110        \n",
       "H2                                                  90.963706        \n",
       "PHS                                                 54.593581        \n",
       "battery                                             83.984855        \n",
       "hydro                                               99.562201        \n",
       "links                                               31.268197        \n",
       "lines                                              314.188554        \n",
       "tsc                                                221.855833        \n",
       "\n",
       "            3H-solar+1.0-onwind+1.5-offwind+1.5-H2+0.5-battery+1.5  \\\n",
       "offwind-ac                                         253.908769        \n",
       "offwind-dc                                         290.121320        \n",
       "onwind                                              31.381633        \n",
       "ror                                                 34.503917        \n",
       "solar                                              385.749386        \n",
       "H2                                                 181.477896        \n",
       "PHS                                                 54.593581        \n",
       "battery                                              0.022561        \n",
       "hydro                                               99.562201        \n",
       "links                                               23.097868        \n",
       "lines                                              290.111672        \n",
       "tsc                                                209.287434        \n",
       "\n",
       "            3H-solar+1.5-onwind+0.5-offwind+0.5-H2+0.5-battery+1.5  \n",
       "offwind-ac                                           0.005999       \n",
       "offwind-dc                                           0.004785       \n",
       "onwind                                            1387.550558       \n",
       "ror                                                 34.503917       \n",
       "solar                                               32.273482       \n",
       "H2                                                 165.958901       \n",
       "PHS                                                 54.593581       \n",
       "battery                                              0.011280       \n",
       "hydro                                               99.562201       \n",
       "links                                               28.174029       \n",
       "lines                                              291.157508       \n",
       "tsc                                                143.842435       "
      ]
     },
     "execution_count": 15,
     "metadata": {},
     "output_type": "execute_result"
    }
   ],
   "source": [
    "df"
   ]
  },
  {
   "cell_type": "markdown",
   "metadata": {},
   "source": [
    "## Building MultiIndex from `opts`"
   ]
  },
  {
   "cell_type": "code",
   "execution_count": 13,
   "metadata": {},
   "outputs": [],
   "source": [
    "def parse(opts):\n",
    "    data = {}\n",
    "    for o in opts.split(\"-\"):\n",
    "        s = o.split(\"+\")\n",
    "        if len(s) > 1:\n",
    "            carrier = s[0]\n",
    "            factor = float(s[1])\n",
    "            data[carrier] = factor\n",
    "    return pd.Series(data)"
   ]
  },
  {
   "cell_type": "code",
   "execution_count": 14,
   "metadata": {},
   "outputs": [],
   "source": [
    "idx_map = pd.concat({opts: parse(opts) for opts in scenarios_opts}, axis=1).fillna(1.)"
   ]
  },
  {
   "cell_type": "code",
   "execution_count": 15,
   "metadata": {},
   "outputs": [],
   "source": [
    "df.columns = pd.MultiIndex.from_tuples([idx_map[i] for i in df.columns],\n",
    "                                       names=[f\"{i}-cost\" for i in idx_map.index])"
   ]
  },
  {
   "cell_type": "code",
   "execution_count": 16,
   "metadata": {},
   "outputs": [
    {
     "data": {
      "text/html": [
       "<div>\n",
       "<style scoped>\n",
       "    .dataframe tbody tr th:only-of-type {\n",
       "        vertical-align: middle;\n",
       "    }\n",
       "\n",
       "    .dataframe tbody tr th {\n",
       "        vertical-align: top;\n",
       "    }\n",
       "\n",
       "    .dataframe thead tr th {\n",
       "        text-align: left;\n",
       "    }\n",
       "</style>\n",
       "<table border=\"1\" class=\"dataframe\">\n",
       "  <thead>\n",
       "    <tr>\n",
       "      <th>solar-cost</th>\n",
       "      <th colspan=\"2\" halign=\"left\">1.0</th>\n",
       "      <th>1.5</th>\n",
       "    </tr>\n",
       "    <tr>\n",
       "      <th>onwind-cost</th>\n",
       "      <th colspan=\"2\" halign=\"left\">1.5</th>\n",
       "      <th>0.5</th>\n",
       "    </tr>\n",
       "    <tr>\n",
       "      <th>offwind-cost</th>\n",
       "      <th>1.0</th>\n",
       "      <th>1.5</th>\n",
       "      <th>0.5</th>\n",
       "    </tr>\n",
       "    <tr>\n",
       "      <th>H2-cost</th>\n",
       "      <th>1.0</th>\n",
       "      <th>0.5</th>\n",
       "      <th>0.5</th>\n",
       "    </tr>\n",
       "    <tr>\n",
       "      <th>battery-cost</th>\n",
       "      <th>0.5</th>\n",
       "      <th>1.5</th>\n",
       "      <th>1.5</th>\n",
       "    </tr>\n",
       "  </thead>\n",
       "  <tbody>\n",
       "    <tr>\n",
       "      <th>offwind-ac</th>\n",
       "      <td>2.858704e+02</td>\n",
       "      <td>2.539088e+02</td>\n",
       "      <td>5.999401e-03</td>\n",
       "    </tr>\n",
       "    <tr>\n",
       "      <th>offwind-dc</th>\n",
       "      <td>2.251272e+02</td>\n",
       "      <td>2.901213e+02</td>\n",
       "      <td>4.785418e-03</td>\n",
       "    </tr>\n",
       "    <tr>\n",
       "      <th>onwind</th>\n",
       "      <td>8.984993e+01</td>\n",
       "      <td>3.138163e+01</td>\n",
       "      <td>1.387551e+03</td>\n",
       "    </tr>\n",
       "    <tr>\n",
       "      <th>ror</th>\n",
       "      <td>3.450392e+01</td>\n",
       "      <td>3.450392e+01</td>\n",
       "      <td>3.450392e+01</td>\n",
       "    </tr>\n",
       "    <tr>\n",
       "      <th>solar</th>\n",
       "      <td>4.456261e+02</td>\n",
       "      <td>3.857494e+02</td>\n",
       "      <td>3.227348e+01</td>\n",
       "    </tr>\n",
       "    <tr>\n",
       "      <th>H2</th>\n",
       "      <td>9.096371e+01</td>\n",
       "      <td>1.814779e+02</td>\n",
       "      <td>1.659589e+02</td>\n",
       "    </tr>\n",
       "    <tr>\n",
       "      <th>PHS</th>\n",
       "      <td>5.459358e+01</td>\n",
       "      <td>5.459358e+01</td>\n",
       "      <td>5.459358e+01</td>\n",
       "    </tr>\n",
       "    <tr>\n",
       "      <th>battery</th>\n",
       "      <td>8.398486e+01</td>\n",
       "      <td>2.256058e-02</td>\n",
       "      <td>1.128000e-02</td>\n",
       "    </tr>\n",
       "    <tr>\n",
       "      <th>hydro</th>\n",
       "      <td>9.956220e+01</td>\n",
       "      <td>9.956220e+01</td>\n",
       "      <td>9.956220e+01</td>\n",
       "    </tr>\n",
       "    <tr>\n",
       "      <th>links</th>\n",
       "      <td>3.126820e+01</td>\n",
       "      <td>2.309787e+01</td>\n",
       "      <td>2.817403e+01</td>\n",
       "    </tr>\n",
       "    <tr>\n",
       "      <th>lines</th>\n",
       "      <td>3.141886e+02</td>\n",
       "      <td>2.901117e+02</td>\n",
       "      <td>2.911575e+02</td>\n",
       "    </tr>\n",
       "    <tr>\n",
       "      <th>objective</th>\n",
       "      <td>2.037410e+11</td>\n",
       "      <td>1.911724e+11</td>\n",
       "      <td>1.257277e+11</td>\n",
       "    </tr>\n",
       "  </tbody>\n",
       "</table>\n",
       "</div>"
      ],
      "text/plain": [
       "solar-cost             1.0                         1.5\n",
       "onwind-cost            1.5                         0.5\n",
       "offwind-cost           1.0           1.5           0.5\n",
       "H2-cost                1.0           0.5           0.5\n",
       "battery-cost           0.5           1.5           1.5\n",
       "offwind-ac    2.858704e+02  2.539088e+02  5.999401e-03\n",
       "offwind-dc    2.251272e+02  2.901213e+02  4.785418e-03\n",
       "onwind        8.984993e+01  3.138163e+01  1.387551e+03\n",
       "ror           3.450392e+01  3.450392e+01  3.450392e+01\n",
       "solar         4.456261e+02  3.857494e+02  3.227348e+01\n",
       "H2            9.096371e+01  1.814779e+02  1.659589e+02\n",
       "PHS           5.459358e+01  5.459358e+01  5.459358e+01\n",
       "battery       8.398486e+01  2.256058e-02  1.128000e-02\n",
       "hydro         9.956220e+01  9.956220e+01  9.956220e+01\n",
       "links         3.126820e+01  2.309787e+01  2.817403e+01\n",
       "lines         3.141886e+02  2.901117e+02  2.911575e+02\n",
       "objective     2.037410e+11  1.911724e+11  1.257277e+11"
      ]
     },
     "execution_count": 16,
     "metadata": {},
     "output_type": "execute_result"
    }
   ],
   "source": [
    "df.to_csv(\"capacities.csv\")"
   ]
  },
  {
   "cell_type": "markdown",
   "metadata": {},
   "source": [
    "## Convert to `xr.Dataset`"
   ]
  },
  {
   "cell_type": "code",
   "execution_count": 14,
   "metadata": {},
   "outputs": [],
   "source": [
    "ds = xr.Dataset.from_dataframe(df.T, sparse=False)"
   ]
  },
  {
   "cell_type": "code",
   "execution_count": 278,
   "metadata": {},
   "outputs": [],
   "source": [
    "ds.to_netcdf(\"capacities.nc\")"
   ]
  },
  {
   "cell_type": "markdown",
   "metadata": {},
   "source": [
    "## Building multiindex from dictionary"
   ]
  },
  {
   "cell_type": "markdown",
   "metadata": {},
   "source": [
    "params = dict(\n",
    "    solar=[0.5,1.0],\n",
    "    onwind=[1.0],\n",
    "    offwind=[1.0],\n",
    "    H2=[1.0],\n",
    "    battery=[1.0])\n",
    "\n",
    "pd.MultiIndex.from_product(params.values(), names=params.keys())"
   ]
  },
  {
   "cell_type": "code",
   "execution_count": 10,
   "metadata": {},
   "outputs": [],
   "source": [
    "n = ns[\"3H-solar+1.5-onwind+0.5-offwind+0.5-H2+0.5-battery+1.5\"]"
   ]
  },
  {
   "cell_type": "code",
   "execution_count": 15,
   "metadata": {},
   "outputs": [
    {
     "data": {
      "text/plain": [
       "['onwind',\n",
       " 'offwind',\n",
       " 'offwind',\n",
       " 'solar',\n",
       " 'PHS',\n",
       " 'hydro',\n",
       " 'ror',\n",
       " 'H2',\n",
       " 'battery']"
      ]
     },
     "execution_count": 15,
     "metadata": {},
     "output_type": "execute_result"
    }
   ],
   "source": [
    "[c.split(\"-\")[0] for c in n.carriers.index]"
   ]
  },
  {
   "cell_type": "code",
   "execution_count": 22,
   "metadata": {},
   "outputs": [
    {
     "data": {
      "text/plain": [
       "True"
      ]
     },
     "execution_count": 22,
     "metadata": {},
     "output_type": "execute_result"
    }
   ],
   "source": []
  },
  {
   "cell_type": "code",
   "execution_count": null,
   "metadata": {},
   "outputs": [],
   "source": []
  }
 ],
 "metadata": {
  "kernelspec": {
   "display_name": "Python 3",
   "language": "python",
   "name": "python3"
  },
  "language_info": {
   "codemirror_mode": {
    "name": "ipython",
    "version": 3
   },
   "file_extension": ".py",
   "mimetype": "text/x-python",
   "name": "python",
   "nbconvert_exporter": "python",
   "pygments_lexer": "ipython3",
   "version": "3.7.6"
  }
 },
 "nbformat": 4,
 "nbformat_minor": 4
}
