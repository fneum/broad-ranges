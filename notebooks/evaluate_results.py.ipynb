{
 "cells": [
  {
   "cell_type": "code",
   "execution_count": null,
   "metadata": {},
   "outputs": [],
   "source": [
    "import pandas as pd\n",
    "import matplotlib.pyplot as plt\n",
    "import yaml\n",
    "import seaborn as sns\n",
    "import pypsa\n",
    "plt.style.use(\"bmh\")\n",
    "%matplotlib inline"
   ]
  },
  {
   "cell_type": "code",
   "execution_count": null,
   "metadata": {},
   "outputs": [],
   "source": [
    "with open(\"config.yaml\", 'r') as stream:\n",
    "    config = yaml.safe_load(stream)"
   ]
  },
  {
   "cell_type": "code",
   "execution_count": null,
   "metadata": {},
   "outputs": [],
   "source": [
    "n = pypsa.Network(\"networks/elec_s_100_ec_lcopt_3H-solar+1.0-onwind+1.5-offwind+1.0-H2+1.0-battery+0.5.nc\")\n",
    "twkm_orig = n.lines.eval(\"s_nom * length / 1e6\").sum() + n.links.eval(\"p_nom * length / 1e6\").sum()"
   ]
  },
  {
   "cell_type": "code",
   "execution_count": null,
   "metadata": {},
   "outputs": [],
   "source": [
    "def load_data(fn):\n",
    "\n",
    "    df = pd.read_csv(fn, index_col=0, header=[0,1,2,3,4]).T\n",
    "\n",
    "    df[\"offwind\"] = df[\"offwind-ac\"] + df[\"offwind-dc\"]\n",
    "    df[\"wind\"] = df[\"onwind\"] + df[\"offwind\"]\n",
    "    df[\"transmission\"] = df[\"lines\"] + df[\"links\"] + twkm_orig\n",
    "\n",
    "    df.drop([\"ror\", \"hydro\", 'PHS', 'offwind-ac', 'offwind-dc', 'lines', 'links'], axis=1, inplace=True)\n",
    "    \n",
    "    return df"
   ]
  },
  {
   "cell_type": "code",
   "execution_count": null,
   "metadata": {},
   "outputs": [],
   "source": [
    "st = 25"
   ]
  },
  {
   "cell_type": "code",
   "execution_count": null,
   "metadata": {},
   "outputs": [],
   "source": [
    "df = load_data(f\"capacities-{st}.csv\")"
   ]
  },
  {
   "cell_type": "code",
   "execution_count": null,
   "metadata": {},
   "outputs": [],
   "source": [
    "len_stats = len(df.columns)\n",
    "len_sensitivities = len(df.index.names)\n",
    "default = df.loc[5*(\"1.0\",),:]\n",
    "fig, axes = plt.subplots(len_sensitivities, len_stats, figsize=(20,15), gridspec_kw={\"hspace\": 0.7, \"wspace\": 0.5})\n",
    "for i, a in enumerate(df.index.names):\n",
    "    for j, b in enumerate([\"solar\", \"onwind\", \"offwind\", \"wind\", \"H2\", \"battery\", \"transmission\", \"tsc\"]):\n",
    "        ax = axes[i,j]\n",
    "        if b == 'transmission':\n",
    "            ax.set_ylabel(\"TWkm\")\n",
    "            c = -0.25\n",
    "            ax.set_ylim([-10,900])\n",
    "            ax.axhline(twkm_orig, linewidth=1, linestyle=\"--\", color='gray', label='base')\n",
    "            ax.legend(frameon=False)\n",
    "        elif b == 'tsc':\n",
    "            ax.set_ylabel(\"bn EUR p.a.\")\n",
    "            ax.set_ylim([-10,300])\n",
    "            c = -0.05\n",
    "        elif b in [\"H2\", \"battery\"]:\n",
    "            ax.set_ylabel(\"GW\")\n",
    "            c = 0.1\n",
    "            ax.set_ylim([-10,270])\n",
    "        else:\n",
    "            ax.set_ylabel(\"GW\")\n",
    "            c = -0.5\n",
    "            ax.set_ylim([-10,1500])\n",
    "        #pal = sns.cubehelix_palette(3, rot=c, dark=.3)\n",
    "        c = config[\"plotting\"][\"tech_colors\"]\n",
    "        nn = config[\"plotting\"][\"nice_names\"]\n",
    "        pal = sns.light_palette(c[b], 3)\n",
    "        sns.violinplot(ax=ax, data=df.unstack(a)[b], inner='points', linewidth=1, cut=0, scale='count', palette=pal)\n",
    "        ax.set_title(nn[b])#, fontdict={\"fontweight\": 3})\n",
    "        label = a.split(\"-\")\n",
    "        ax.set_xlabel(f\"{nn[label[0]]}\\nCost\", fontdict={\"color\": c[label[0]], \"fontweight\": 'semibold'})\n",
    "        ax.axhline(default[b], linewidth=1, color='k', linestyle=\":\")\n",
    "plt.savefig(f\"matrix-{st}.pdf\", bbox_inches='tight')"
   ]
  },
  {
   "cell_type": "code",
   "execution_count": null,
   "metadata": {},
   "outputs": [],
   "source": [
    "fig, axes = plt.subplots(1,4,figsize=(8,3), gridspec_kw={\"width_ratios\": [4,2,1,1], \"hspace\": 0.5, \"wspace\": 0.6})\n",
    "c = config[\"plotting\"][\"tech_colors\"]\n",
    "sel = [\"solar\", \"onwind\", \"offwind\", \"wind\"]\n",
    "sns.violinplot(ax=axes[0], data=df[sel], inner='points', cut=0, scale='width', linewidth=1, palette=[c[s] for s in sel])\n",
    "sel = [\"H2\", \"battery\"]\n",
    "sns.violinplot(ax=axes[1], data=df[sel], inner='points', cut=0, scale='width', linewidth=1, palette=[c[s] for s in sel])\n",
    "sel = [\"transmission\"]\n",
    "sns.violinplot(ax=axes[2], data=df[sel], inner='points', cut=0, scale='width', linewidth=1, palette=[c[s] for s in sel])\n",
    "sel = [\"tsc\"]\n",
    "sns.violinplot(ax=axes[3], data=df[sel], inner='points', cut=0, scale='width', linewidth=1, palette=[c[s] for s in sel])\n",
    "axes[2].axhline(twkm_orig, linewidth=1, linestyle=\"--\", color='gray', label='base')\n",
    "axes[2].set_ylim([0,900])\n",
    "axes[3].set_ylim([0,300])\n",
    "axes[1].set_ylim([0,270])\n",
    "axes[0].set_ylim([0,1500])\n",
    "axes[0].set_ylabel(\"GW\")\n",
    "axes[1].set_ylabel(\"GW\")\n",
    "axes[2].set_ylabel(\"TWkm\")\n",
    "axes[3].set_ylabel(\"bn EUR p.a.\");\n",
    "plt.savefig(f\"capacity-range-{st}.pdf\", bbox_inches='tight')"
   ]
  },
  {
   "cell_type": "code",
   "execution_count": null,
   "metadata": {},
   "outputs": [],
   "source": []
  }
 ],
 "metadata": {
  "kernelspec": {
   "display_name": "",
   "language": "python",
   "name": ""
  },
  "language_info": {
   "codemirror_mode": {
    "name": "ipython",
    "version": 3
   },
   "file_extension": ".py",
   "mimetype": "text/x-python",
   "name": "python",
   "nbconvert_exporter": "python",
   "pygments_lexer": "ipython3",
   "version": "3.7.6"
  }
 },
 "nbformat": 4,
 "nbformat_minor": 4
}