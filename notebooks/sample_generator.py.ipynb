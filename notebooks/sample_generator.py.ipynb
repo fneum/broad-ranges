{
 "cells": [
  {
   "cell_type": "code",
   "execution_count": null,
   "metadata": {},
   "outputs": [],
   "source": [
    "from itertools import product\n",
    "import numpy as np\n",
    "import pandas as pd\n",
    "\n",
    "import chaospy\n",
    "\n",
    "import matplotlib.pyplot as plt\n",
    "plt.style.use(\"bmh\")\n",
    "%matplotlib inline"
   ]
  },
  {
   "cell_type": "code",
   "execution_count": null,
   "metadata": {},
   "outputs": [],
   "source": [
    "factors = dict(\n",
    "    solar=[0.75,1.0,1.25],\n",
    "    onwind=[0.75,1.0,1.25],\n",
    "    offwind=[0.75,1.0,1.25],\n",
    "    H2=[0.75,1.0,1.25],  \n",
    "    battery=[0.75,1.0,1.25]\n",
    ")"
   ]
  },
  {
   "cell_type": "code",
   "execution_count": null,
   "metadata": {},
   "outputs": [],
   "source": [
    "factors = dict(\n",
    "    solar=[0.5,0.75,1.0,1.25,1.5],\n",
    "    onwind=[0.5,0.75,1.0,1.25,1.5],\n",
    "    offwind=[0.5,0.75,1.0,1.25,1.5],\n",
    "    H2=[0.5,0.75,1.0,1.25,1.5],  \n",
    "    battery=[0.5,0.75,1.0,1.25,1.5]\n",
    ")"
   ]
  },
  {
   "cell_type": "code",
   "execution_count": null,
   "metadata": {},
   "outputs": [],
   "source": [
    "opts = [\"3H\"]"
   ]
  },
  {
   "cell_type": "code",
   "execution_count": null,
   "metadata": {},
   "outputs": [],
   "source": [
    "def add_cost_opts(wildcards_opts):\n",
    "    carrier, values = zip(*factors.items())\n",
    "    cost_sets = [dict(zip(carrier, v)) for v in product(*values)]\n",
    "\n",
    "    new_opts = []\n",
    "    for opts in wildcards_opts:\n",
    "        for cost_set in cost_sets:\n",
    "            cost_opts = \"-\".join([f\"{c}+{v}\" for c, v in cost_set.items()])\n",
    "            new_opts.append(f\"{opts}-{cost_opts}\")\n",
    "    \n",
    "    return new_opts"
   ]
  },
  {
   "cell_type": "code",
   "execution_count": null,
   "metadata": {},
   "outputs": [],
   "source": [
    "add_cost_opts(opts)"
   ]
  },
  {
   "cell_type": "markdown",
   "metadata": {},
   "source": [
    "## Create `opts` from quasi-random samples"
   ]
  },
  {
   "cell_type": "code",
   "execution_count": null,
   "metadata": {},
   "outputs": [],
   "source": [
    "# TODO: unify with add_cost_opts\n",
    "def add_sampled_cost_opts(wildcards_opts, order=10):\n",
    "    \n",
    "    dist = {}\n",
    "    dist[\"onwind\"] = chaospy.Uniform(0.5, 1.5)\n",
    "    dist[\"offwind\"] = chaospy.Uniform(0.5,1.5)\n",
    "    dist[\"solar\"] = chaospy.Uniform(0.5, 1.5)\n",
    "    dist[\"H2\"] = chaospy.Uniform(0.5, 1.5)\n",
    "\n",
    "    dist[\"battery\"] = chaospy.Uniform(0.5,1.5)\n",
    "\n",
    "    distribution = chaospy.J(*dist.values())\n",
    "    \n",
    "    samples = distribution.sample(order, rule=\"halton\").round(3)\n",
    "    \n",
    "    new_opts = []\n",
    "    for opts in wildcards_opts:\n",
    "        for s in samples.T:\n",
    "            cost_set = dict(zip(dist.keys(), s))\n",
    "            cost_opts = \"-\".join([f\"{c}+{v}\n",
    "            \" for c, v in cost_set.items()])\n",
    "            new_opts.append(f\"{opts}-{cost_opts}\")\n",
    "    \n",
    "    return new_opts"
   ]
  },
  {
   "cell_type": "code",
   "execution_count": null,
   "metadata": {},
   "outputs": [],
   "source": [
    "add_sampled_cost_opts(opts, 1000)"
   ]
  },
  {
   "cell_type": "markdown",
   "metadata": {},
   "source": [
    "## Comparison of Low-Discrepancy Sampling Methods"
   ]
  },
  {
   "cell_type": "code",
   "execution_count": null,
   "metadata": {},
   "outputs": [],
   "source": [
    "fig, axes = plt.subplots(2,4,figsize=(10,5))\n",
    "for i, rule in enumerate(['random', 'halton', \"latin\", 'sobol', 'grid', 'korobov', 'chebyshev', 'hammersley']):\n",
    "    ax = axes[int(i/4),i%4]\n",
    "    order = 100\n",
    "    dim = 2\n",
    "    if rule == \"latin\":\n",
    "        xs = lhs(order=order, dim=dim)\n",
    "    else:\n",
    "        if rule in ['grid', 'chebyshev']:\n",
    "            order = order**(1/dim)\n",
    "        xs = generate_samples(order=order, domain=dim, rule=rule)\n",
    "    ax.scatter(*xs, marker='.', c='navy')\n",
    "    ax.set_title(rule.capitalize())\n",
    "    ax.set_ylim([0,1])\n",
    "    ax.set_xlim([0,1])\n",
    "    ax.set_xticks(np.arange(0,1.01,0.2))\n",
    "    ax.set_yticks(np.arange(0,1.01,0.2))\n",
    "plt.tight_layout()\n",
    "plt.savefig(\"low-discrepancy-series.pdf\", bbox_inches='tight')"
   ]
  },
  {
   "cell_type": "code",
   "execution_count": null,
   "metadata": {},
   "outputs": [],
   "source": []
  },
  {
   "cell_type": "code",
   "execution_count": null,
   "metadata": {},
   "outputs": [],
   "source": []
  },
  {
   "cell_type": "markdown",
   "metadata": {},
   "source": [
    "## Multi-fidelity approach to build surrogate"
   ]
  },
  {
   "cell_type": "code",
   "execution_count": null,
   "metadata": {},
   "outputs": [],
   "source": [
    "# TODO"
   ]
  },
  {
   "cell_type": "code",
   "execution_count": null,
   "metadata": {},
   "outputs": [],
   "source": []
  },
  {
   "cell_type": "code",
   "execution_count": null,
   "metadata": {},
   "outputs": [],
   "source": []
  }
 ],
 "metadata": {
  "kernelspec": {
   "display_name": "",
   "language": "python",
   "name": ""
  },
  "language_info": {
   "codemirror_mode": {
    "name": "ipython",
    "version": 3
   },
   "file_extension": ".py",
   "mimetype": "text/x-python",
   "name": "python",
   "nbconvert_exporter": "python",
   "pygments_lexer": "ipython3",
   "version": "3.7.6"
  }
 },
 "nbformat": 4,
 "nbformat_minor": 4
}