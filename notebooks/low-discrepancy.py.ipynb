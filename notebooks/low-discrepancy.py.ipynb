{
 "cells": [
  {
   "cell_type": "code",
   "execution_count": null,
   "metadata": {},
   "outputs": [],
   "source": [
    "import numpy as np\n",
    "from chaospy import generate_samples\n",
    "from chaospy import create_latin_hypercube_samples as lhs"
   ]
  },
  {
   "cell_type": "code",
   "execution_count": null,
   "metadata": {},
   "outputs": [],
   "source": [
    "import matplotlib.pyplot as plt\n",
    "plt.style.use([\"bmh\", \"../matplotlibrc\"])\n",
    "%matplotlib inline"
   ]
  },
  {
   "cell_type": "markdown",
   "metadata": {},
   "source": [
    "## Comparison of Low-Discrepancy Sampling Methods"
   ]
  },
  {
   "cell_type": "code",
   "execution_count": null,
   "metadata": {},
   "outputs": [],
   "source": [
    "fig, axes = plt.subplots(2,4,figsize=(10,5))\n",
    "for i, rule in enumerate(['random', 'halton', \"latin\", 'sobol', 'grid', 'korobov', 'chebyshev', 'hammersley']):\n",
    "    ax = axes[int(i/4),i%4]\n",
    "    order = 100\n",
    "    dim = 2\n",
    "    if rule == \"latin\":\n",
    "        xs = lhs(order=order, dim=dim)\n",
    "    else:\n",
    "        if rule in ['grid', 'chebyshev']:\n",
    "            order = order**(1/dim)\n",
    "        xs = generate_samples(order=order, domain=dim, rule=rule)\n",
    "    ax.scatter(*xs, marker='.', c='navy')\n",
    "    ax.set_title(rule.capitalize())\n",
    "    ax.set_ylim([0,1])\n",
    "    ax.set_xlim([0,1])\n",
    "    ax.set_xticks(np.arange(0,1.01,0.2))\n",
    "    ax.set_yticks(np.arange(0,1.01,0.2))\n",
    "plt.tight_layout()\n",
    "plt.savefig(\"graphics/low-discrepancy-series.pdf\", bbox_inches='tight')"
   ]
  },
  {
   "cell_type": "code",
   "execution_count": null,
   "metadata": {},
   "outputs": [],
   "source": []
  },
  {
   "cell_type": "code",
   "execution_count": null,
   "metadata": {},
   "outputs": [],
   "source": []
  }
 ],
 "metadata": {
  "kernelspec": {
   "display_name": "",
   "language": "python",
   "name": ""
  },
  "language_info": {
   "codemirror_mode": {
    "name": "ipython",
    "version": 3
   },
   "file_extension": ".py",
   "mimetype": "text/x-python",
   "name": "python",
   "nbconvert_exporter": "python",
   "pygments_lexer": "ipython3",
   "version": "3.9.7"
  }
 },
 "nbformat": 4,
 "nbformat_minor": 4
}