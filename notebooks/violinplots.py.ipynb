{
 "cells": [
  {
   "cell_type": "code",
   "execution_count": null,
   "metadata": {},
   "outputs": [],
   "source": [
    "import pandas as pd\n",
    "import matplotlib.pyplot as plt\n",
    "import yaml\n",
    "import os\n",
    "import sys\n",
    "import seaborn as sns\n",
    "import pypsa\n",
    "from itertools import product\n",
    "\n",
    "sys.path.insert(0, os.getcwd() + \"/../scripts\")\n",
    "import _helpers as h\n",
    "\n",
    "plt.style.use([\"../matplotlibrc\",\"bmh\"])\n",
    "%matplotlib inline"
   ]
  },
  {
   "cell_type": "code",
   "execution_count": null,
   "metadata": {},
   "outputs": [],
   "source": [
    "with open(\"../config.pypsaeur.yaml\", 'r') as stream:\n",
    "    peur_config = yaml.safe_load(stream)"
   ]
  },
  {
   "cell_type": "code",
   "execution_count": null,
   "metadata": {},
   "outputs": [],
   "source": [
    "with open(\"../config.yaml\", 'r') as stream:\n",
    "    config = yaml.safe_load(stream)"
   ]
  },
  {
   "cell_type": "code",
   "execution_count": null,
   "metadata": {},
   "outputs": [],
   "source": [
    "def plot_violins(df, fidelity='high', fn=None):\n",
    "    \n",
    "    fig, axes = plt.subplots(1,4,figsize=(8,3), gridspec_kw={\"width_ratios\": [4,2,1,1], \"hspace\": 0.5, \"wspace\": 0.6})\n",
    "    \n",
    "    c = peur_config[\"plotting\"][\"tech_colors\"]\n",
    "    nn = peur_config[\"plotting\"][\"nice_names_n\"]\n",
    "    \n",
    "    twkm_orig = 307 if fidelity == 'high' else 132\n",
    "    \n",
    "    kwargs = dict(inner='box', cut=0, scale='width', linewidth=1)\n",
    "    \n",
    "    sel = [\"solar\", \"onwind\", \"offwind\", \"wind\"]\n",
    "    sns.violinplot(ax=axes[0], data=df[sel], **kwargs, palette=[c[s] for s in sel])\n",
    "    axes[0].set_xticklabels([nn[i] for i in sel], rotation=15)\n",
    "    \n",
    "    sel = [\"H2\", \"battery\"]\n",
    "    sns.violinplot(ax=axes[1], data=df[sel], **kwargs, palette=[c[s] for s in sel])\n",
    "    axes[1].set_xticklabels([nn[i] for i in sel], rotation=15)\n",
    "    \n",
    "    sel = [\"transmission\"]\n",
    "    sns.violinplot(ax=axes[2], data=df[sel], **kwargs, palette=[c[s] for s in sel])\n",
    "    axes[2].set_xticklabels([nn[i] for i in sel], rotation=15)\n",
    "    \n",
    "    sel = [\"tsc\"]\n",
    "    sns.violinplot(ax=axes[3], data=df[sel], **kwargs, palette=[c[s] for s in sel])\n",
    "    axes[3].set_xticklabels([nn[i] for i in sel], rotation=15)\n",
    "    \n",
    "    axes[2].axhline(twkm_orig, linewidth=1, linestyle=\"--\", color='gray', label='base')\n",
    "    \n",
    "    axes[2].set_ylim([0,900])\n",
    "    axes[3].set_ylim([0,250])\n",
    "    axes[1].set_ylim([0,300])\n",
    "    axes[0].set_ylim([0,1500])\n",
    "    \n",
    "    axes[0].set_ylabel(\"GW\")\n",
    "    axes[1].set_ylabel(\"GW\")\n",
    "    axes[2].set_ylabel(\"TWkm\")\n",
    "    axes[3].set_ylabel(\"bn EUR p.a.\")\n",
    "    \n",
    "    for ax in axes:\n",
    "        ax.set_xlabel(None)\n",
    "        ax.grid(False)\n",
    "    \n",
    "    axes[0].set_title(f\"{len(df)} samples\", fontsize=11)#, (-0.25,1200))\n",
    "    \n",
    "    if fn is not None:\n",
    "        plt.savefig(fn, bbox_inches='tight')"
   ]
  },
  {
   "cell_type": "code",
   "execution_count": null,
   "metadata": {},
   "outputs": [],
   "source": [
    "fids = [\"low\", \"high\"]\n",
    "for fid in fids:\n",
    "    df = h.load_dataset(f\"../results/dataset_{fid}.csv\")\n",
    "    plot_violins(df, fidelity=fid, fn=f\"graphics/violins/violin-capacities-{fid}.pdf\")"
   ]
  },
  {
   "cell_type": "code",
   "execution_count": null,
   "metadata": {},
   "outputs": [],
   "source": [
    "uncertainties = config[\"uncertainties\"]\n",
    "distribution = h.NamedJ(uncertainties)\n",
    "samples = distribution.sample(100000)\n",
    "\n",
    "for fid in fids:\n",
    "    surrogate = h.NamedPoly.from_txt(f\"../results/pce/polynomial-{fid}-min-cost-0.0.txt\")\n",
    "    df = h.build_pce_prediction(surrogate, samples)\n",
    "    plot_violins(df, fidelity=fid, fn=f\"graphics/violin-capacities-{fid}-prediction.pdf\")"
   ]
  },
  {
   "cell_type": "raw",
   "metadata": {},
   "source": [
    "len_stats = len(df.columns)\n",
    "len_sensitivities = len(df.index.names)\n",
    "default = df.loc[5*(\"1.0\",),:]\n",
    "fig, axes = plt.subplots(len_sensitivities, len_stats, figsize=(20,15), gridspec_kw={\"hspace\": 0.7, \"wspace\": 0.5})\n",
    "for i, a in enumerate(df.index.names):\n",
    "    for j, b in enumerate([\"solar\", \"onwind\", \"offwind\", \"wind\", \"H2\", \"battery\", \"transmission\", \"tsc\"]):\n",
    "        ax = axes[i,j]\n",
    "        if b == 'transmission':\n",
    "            ax.set_ylabel(\"TWkm\")\n",
    "            c = -0.25\n",
    "            ax.set_ylim([-10,900])\n",
    "            ax.axhline(twkm_orig, linewidth=1, linestyle=\"--\", color='gray', label='base')\n",
    "            ax.legend(frameon=False)\n",
    "        elif b == 'tsc':\n",
    "            ax.set_ylabel(\"bn EUR p.a.\")\n",
    "            ax.set_ylim([-10,300])\n",
    "            c = -0.05\n",
    "        elif b in [\"H2\", \"battery\"]:\n",
    "            ax.set_ylabel(\"GW\")\n",
    "            c = 0.1\n",
    "            ax.set_ylim([-10,270])\n",
    "        else:\n",
    "            ax.set_ylabel(\"GW\")\n",
    "            c = -0.5\n",
    "            ax.set_ylim([-10,1500])\n",
    "        #pal = sns.cubehelix_palette(3, rot=c, dark=.3)\n",
    "        c = config[\"plotting\"][\"tech_colors\"]\n",
    "        nn = config[\"plotting\"][\"nice_names\"]\n",
    "        pal = sns.light_palette(c[b], 3)\n",
    "        sns.violinplot(ax=ax, data=df.unstack(a)[b], inner='points', linewidth=1, cut=0, scale='count', palette=pal)\n",
    "        ax.set_title(nn[b])#, fontdict={\"fontweight\": 3})\n",
    "        label = a.split(\"-\")\n",
    "        ax.set_xlabel(f\"{nn[label[0]]}\\nCost\", fontdict={\"color\": c[label[0]], \"fontweight\": 'semibold'})\n",
    "        ax.axhline(default[b], linewidth=1, color='k', linestyle=\":\")\n",
    "plt.savefig(f\"graphics/matrix-{st}.pdf\", bbox_inches='tight')"
   ]
  },
  {
   "cell_type": "code",
   "execution_count": null,
   "metadata": {},
   "outputs": [],
   "source": []
  }
 ],
 "metadata": {
  "kernelspec": {
   "display_name": "",
   "language": "python",
   "name": ""
  },
  "language_info": {
   "codemirror_mode": {
    "name": "ipython",
    "version": 3
   },
   "file_extension": ".py",
   "mimetype": "text/x-python",
   "name": "python",
   "nbconvert_exporter": "python",
   "pygments_lexer": "ipython3",
   "version": "3.7.6"
  }
 },
 "nbformat": 4,
 "nbformat_minor": 4
}